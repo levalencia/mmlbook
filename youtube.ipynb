{
 "cells": [
  {
   "cell_type": "code",
   "execution_count": 1,
   "metadata": {},
   "outputs": [
    {
     "name": "stdout",
     "output_type": "stream",
     "text": [
      "Collecting pytube\n",
      "  Downloading pytube-15.0.0-py3-none-any.whl.metadata (5.0 kB)\n",
      "Downloading pytube-15.0.0-py3-none-any.whl (57 kB)\n",
      "   ---------------------------------------- 0.0/57.6 kB ? eta -:--:--\n",
      "   ------- -------------------------------- 10.2/57.6 kB ? eta -:--:--\n",
      "   ---------------------------------------- 57.6/57.6 kB 751.6 kB/s eta 0:00:00\n",
      "Installing collected packages: pytube\n",
      "Successfully installed pytube-15.0.0\n",
      "Note: you may need to restart the kernel to use updated packages.\n"
     ]
    }
   ],
   "source": [
    "%pip install pytube"
   ]
  },
  {
   "cell_type": "code",
   "execution_count": 3,
   "metadata": {},
   "outputs": [
    {
     "name": "stdout",
     "output_type": "stream",
     "text": [
      "An error occurred: HTTP Error 400: Bad Request\n"
     ]
    }
   ],
   "source": [
    "from pytube import YouTube\n",
    "\n",
    "def download_youtube_video(url, download_path=\".\"):\n",
    "    try:\n",
    "        # Create a YouTube object\n",
    "        yt = YouTube(url)\n",
    "\n",
    "        # Check if the video is live\n",
    "        if yt.vid_info.get('playabilityStatus', {}).get('liveStreamability') is not None:\n",
    "            print(\"This is a live stream or a recently recorded stream, which might not be downloadable.\")\n",
    "\n",
    "        # Get the highest resolution stream available\n",
    "        stream = yt.streams.get_highest_resolution()\n",
    "\n",
    "        # Download the video to the specified path\n",
    "        print(f\"Downloading '{yt.title}'...\")\n",
    "        stream.download(output_path=download_path)\n",
    "\n",
    "        print(f\"Download completed! Video saved to {download_path}/{yt.title}.mp4\")\n",
    "    except Exception as e:\n",
    "        print(f\"An error occurred: {e}\")\n",
    "\n",
    "if __name__ == \"__main__\":\n",
    "    # Replace this with the URL of the YouTube video you want to download\n",
    "    video_url = \"https://www.youtube.com/live/24sQVUYQpPQ\"\n",
    "    \n",
    "    # Replace this with the path where you want to save the downloaded video\n",
    "    save_path = \"./\"  # Current directory\n",
    "\n",
    "    download_youtube_video(video_url, save_path)\n"
   ]
  },
  {
   "cell_type": "code",
   "execution_count": null,
   "metadata": {},
   "outputs": [],
   "source": []
  }
 ],
 "metadata": {
  "kernelspec": {
   "display_name": "Python 3",
   "language": "python",
   "name": "python3"
  },
  "language_info": {
   "codemirror_mode": {
    "name": "ipython",
    "version": 3
   },
   "file_extension": ".py",
   "mimetype": "text/x-python",
   "name": "python",
   "nbconvert_exporter": "python",
   "pygments_lexer": "ipython3",
   "version": "3.12.3"
  }
 },
 "nbformat": 4,
 "nbformat_minor": 2
}
