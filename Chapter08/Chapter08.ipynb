{
 "cells": [
  {
   "cell_type": "markdown",
   "metadata": {
    "id": "r6bRv4ls6x70"
   },
   "source": [
    "# Chapter 8 - Introduction to Pytorch\n",
    "\n",
    "## Installing Pytorch"
   ]
  },
  {
   "cell_type": "code",
   "execution_count": 1,
   "metadata": {
    "colab": {
     "base_uri": "https://localhost:8080/"
    },
    "executionInfo": {
     "elapsed": 7949,
     "status": "ok",
     "timestamp": 1727769369181,
     "user": {
      "displayName": "Luis Valencia",
      "userId": "16175830104245929827"
     },
     "user_tz": -120
    },
    "id": "IHC6Lv1IFBgt",
    "outputId": "b961eb26-2869-4cdf-f8ca-f780857af3e4"
   },
   "outputs": [
    {
     "name": "stdout",
     "output_type": "stream",
     "text": [
      "Requirement already satisfied: torch in c:\\mmlbook\\.venv\\lib\\site-packages (2.4.1)\n",
      "Requirement already satisfied: filelock in c:\\mmlbook\\.venv\\lib\\site-packages (from torch) (3.16.1)\n",
      "Requirement already satisfied: typing-extensions>=4.8.0 in c:\\mmlbook\\.venv\\lib\\site-packages (from torch) (4.12.2)\n",
      "Requirement already satisfied: sympy in c:\\mmlbook\\.venv\\lib\\site-packages (from torch) (1.13.3)\n",
      "Requirement already satisfied: networkx in c:\\mmlbook\\.venv\\lib\\site-packages (from torch) (3.3)\n",
      "Requirement already satisfied: jinja2 in c:\\mmlbook\\.venv\\lib\\site-packages (from torch) (3.1.4)\n",
      "Requirement already satisfied: fsspec in c:\\mmlbook\\.venv\\lib\\site-packages (from torch) (2024.9.0)\n",
      "Requirement already satisfied: setuptools in c:\\mmlbook\\.venv\\lib\\site-packages (from torch) (75.1.0)\n",
      "Requirement already satisfied: MarkupSafe>=2.0 in c:\\mmlbook\\.venv\\lib\\site-packages (from jinja2->torch) (2.1.5)\n",
      "Requirement already satisfied: mpmath<1.4,>=1.1.0 in c:\\mmlbook\\.venv\\lib\\site-packages (from sympy->torch) (1.3.0)\n",
      "Note: you may need to restart the kernel to use updated packages.\n"
     ]
    }
   ],
   "source": [
    "%pip install torch"
   ]
  },
  {
   "cell_type": "code",
   "execution_count": 2,
   "metadata": {
    "colab": {
     "base_uri": "https://localhost:8080/",
     "height": 36
    },
    "executionInfo": {
     "elapsed": 829,
     "status": "ok",
     "timestamp": 1727778378044,
     "user": {
      "displayName": "Luis Valencia",
      "userId": "16175830104245929827"
     },
     "user_tz": -120
    },
    "id": "VL-amtkynbxk",
    "outputId": "4e9e8c15-b562-4e38-8041-a06092a94502"
   },
   "outputs": [
    {
     "data": {
      "text/plain": [
       "'2.4.1+cpu'"
      ]
     },
     "execution_count": 2,
     "metadata": {},
     "output_type": "execute_result"
    }
   ],
   "source": [
    "import torch\n",
    "torch.__version__"
   ]
  },
  {
   "cell_type": "markdown",
   "metadata": {
    "id": "nv_J20t16v_P"
   },
   "source": [
    "## Comparing Tensors with NumPy Arrays"
   ]
  },
  {
   "cell_type": "code",
   "execution_count": 3,
   "metadata": {
    "executionInfo": {
     "elapsed": 4453,
     "status": "ok",
     "timestamp": 1727769779969,
     "user": {
      "displayName": "Luis Valencia",
      "userId": "16175830104245929827"
     },
     "user_tz": -120
    },
    "id": "pZFOkAc1FCjT"
   },
   "outputs": [],
   "source": [
    "import torch\n",
    "import numpy as np\n",
    "\n",
    "# NumPy array\n",
    "np_array = np.array([[1, 2], [3, 4]])\n",
    "\n",
    "# PyTorch Tensor\n",
    "tensor = torch.tensor([[1, 2], [3, 4]])\n",
    "\n",
    "# Converting between NumPy arrays and PyTorch tensors\n",
    "tensor_from_numpy = torch.from_numpy(np_array)\n",
    "numpy_from_tensor = tensor.numpy()\n"
   ]
  },
  {
   "cell_type": "markdown",
   "metadata": {
    "id": "fA0dhYFr64o0"
   },
   "source": [
    "## Broadcasting"
   ]
  },
  {
   "cell_type": "code",
   "execution_count": 4,
   "metadata": {
    "colab": {
     "base_uri": "https://localhost:8080/"
    },
    "executionInfo": {
     "elapsed": 377,
     "status": "ok",
     "timestamp": 1727772136409,
     "user": {
      "displayName": "Luis Valencia",
      "userId": "16175830104245929827"
     },
     "user_tz": -120
    },
    "id": "64G9us2wPlWV",
    "outputId": "ba9ca761-5832-4ed6-c719-8ea4fad67688"
   },
   "outputs": [
    {
     "name": "stdout",
     "output_type": "stream",
     "text": [
      "tensor([[11, 22],\n",
      "        [13, 24]])\n"
     ]
    }
   ],
   "source": [
    "import torch\n",
    "\n",
    "# Broadcasting example\n",
    "tensor_a = torch.tensor([[1, 2], [3, 4]])\n",
    "tensor_b = torch.tensor([10, 20])\n",
    "result = tensor_a + tensor_b\n",
    "print(result)\n"
   ]
  },
  {
   "cell_type": "markdown",
   "metadata": {
    "id": "7YMoKbl367Iw"
   },
   "source": [
    "## Slicing and indexing"
   ]
  },
  {
   "cell_type": "code",
   "execution_count": 5,
   "metadata": {
    "colab": {
     "base_uri": "https://localhost:8080/"
    },
    "executionInfo": {
     "elapsed": 854,
     "status": "ok",
     "timestamp": 1727772312150,
     "user": {
      "displayName": "Luis Valencia",
      "userId": "16175830104245929827"
     },
     "user_tz": -120
    },
    "id": "mY2SSRFeQQkN",
    "outputId": "56cd0bbd-f244-4e98-eaa8-dba7b55cc8e9"
   },
   "outputs": [
    {
     "name": "stdout",
     "output_type": "stream",
     "text": [
      "tensor([1, 2, 3])\n",
      "tensor([[99,  2,  3],\n",
      "        [ 4,  5,  6],\n",
      "        [ 7,  8,  9]])\n"
     ]
    }
   ],
   "source": [
    "tensor = torch.tensor([[1, 2, 3], [4, 5, 6], [7, 8, 9]])\n",
    "# Slicing the first row\n",
    "print(tensor[0, :])\n",
    "# Modifying the first element\n",
    "tensor[0, 0] = 99\n",
    "print(tensor)\n"
   ]
  },
  {
   "cell_type": "markdown",
   "metadata": {
    "id": "9-H9Ka_s69if"
   },
   "source": [
    "## GPU Accleration with CUDA"
   ]
  },
  {
   "cell_type": "code",
   "execution_count": 6,
   "metadata": {
    "colab": {
     "base_uri": "https://localhost:8080/"
    },
    "executionInfo": {
     "elapsed": 27524,
     "status": "ok",
     "timestamp": 1727783602173,
     "user": {
      "displayName": "Luis Valencia",
      "userId": "16175830104245929827"
     },
     "user_tz": -120
    },
    "id": "ugR45yT9GowM",
    "outputId": "2d15063e-5da4-43e6-ea45-26c15b537fa8"
   },
   "outputs": [
    {
     "name": "stdout",
     "output_type": "stream",
     "text": [
      "CPU Time: 13.120132207870483 seconds\n"
     ]
    }
   ],
   "source": [
    "import torch\n",
    "import time\n",
    "\n",
    "# Perform matrix multiplication on CPU\n",
    "tensor_cpu = torch.randn(10000, 10000)\n",
    "start_time = time.time()\n",
    "tensor_cpu.matmul(tensor_cpu)\n",
    "print(f\"CPU Time: {time.time() - start_time} seconds\")\n",
    "\n",
    "# Perform matrix multiplication on GPU (if available)\n",
    "if torch.cuda.is_available():\n",
    "    tensor_gpu = tensor_cpu.cuda()\n",
    "    start_time = time.time()\n",
    "    tensor_gpu.matmul(tensor_gpu)\n",
    "    print(f\"GPU Time: {time.time() - start_time} seconds\")\n"
   ]
  },
  {
   "cell_type": "markdown",
   "metadata": {
    "id": "JrcJoWyX7JWh"
   },
   "source": [
    "## multi-GPU setups"
   ]
  },
  {
   "cell_type": "code",
   "execution_count": 7,
   "metadata": {
    "id": "YU55uvjYKdKB"
   },
   "outputs": [
    {
     "name": "stdout",
     "output_type": "stream",
     "text": [
      "tensor([[ 4.8184e-02,  7.7248e-02],\n",
      "        [ 2.1718e-01,  6.0830e-03],\n",
      "        [ 2.7460e-01,  1.2461e-01],\n",
      "        [ 3.7005e-01,  2.7445e-01],\n",
      "        [ 8.0467e-02,  2.9555e-02],\n",
      "        [-7.0795e-02, -1.7445e-01],\n",
      "        [ 3.1169e-02, -9.6348e-02],\n",
      "        [ 5.9631e-02,  2.7559e-02],\n",
      "        [ 1.0945e-01,  7.8810e-02],\n",
      "        [-1.2917e-03,  8.9544e-02],\n",
      "        [ 1.6125e-01,  5.5902e-05],\n",
      "        [ 4.8137e-01,  2.7564e-01],\n",
      "        [ 8.3060e-02,  1.4095e-02],\n",
      "        [ 1.8755e-01,  4.8861e-01],\n",
      "        [ 3.0322e-01, -2.5338e-02],\n",
      "        [-8.9329e-04,  1.5688e-02],\n",
      "        [-4.6770e-02, -2.8562e-01],\n",
      "        [ 1.6438e-01,  2.9836e-02],\n",
      "        [ 2.2067e-01,  8.5723e-02],\n",
      "        [ 9.8859e-02,  6.8470e-02],\n",
      "        [ 1.2108e-01, -2.8894e-01],\n",
      "        [ 2.6080e-01,  5.5530e-02],\n",
      "        [ 2.6808e-01,  2.9986e-01],\n",
      "        [ 4.0351e-01,  1.5557e-01],\n",
      "        [-5.2741e-03, -1.0963e-01],\n",
      "        [ 2.5599e-01,  2.3856e-01],\n",
      "        [ 1.7228e-02, -1.3740e-01],\n",
      "        [ 1.7132e-01,  8.8497e-02],\n",
      "        [ 2.9544e-01,  6.4334e-03],\n",
      "        [-2.2868e-01, -3.7445e-03],\n",
      "        [ 2.8425e-01,  6.7785e-03],\n",
      "        [ 1.2849e-01, -3.1797e-02],\n",
      "        [ 1.3605e-01, -1.9860e-01],\n",
      "        [ 3.6102e-03,  1.3973e-01],\n",
      "        [ 2.7629e-01,  1.7330e-01],\n",
      "        [-3.7123e-03, -2.0122e-01],\n",
      "        [ 7.8220e-02, -1.0945e-01],\n",
      "        [ 1.2301e-01,  1.4690e-01],\n",
      "        [ 2.3529e-01,  4.5871e-02],\n",
      "        [-6.0948e-02, -2.2707e-01],\n",
      "        [-1.9522e-02,  1.5249e-01],\n",
      "        [ 4.9000e-01,  4.2772e-01],\n",
      "        [ 2.6010e-01,  4.7927e-02],\n",
      "        [ 1.3549e-01,  3.0091e-02],\n",
      "        [ 2.2755e-01,  3.2042e-02],\n",
      "        [-2.8771e-01, -2.3397e-01],\n",
      "        [-2.6314e-02,  6.1665e-02],\n",
      "        [ 8.9652e-03,  2.5456e-02],\n",
      "        [ 3.4525e-01,  1.2493e-01],\n",
      "        [ 1.4790e-01,  7.7023e-02],\n",
      "        [ 2.0736e-01,  3.0789e-01],\n",
      "        [ 2.3584e-01,  7.8136e-02],\n",
      "        [ 1.1708e-01, -1.8298e-02],\n",
      "        [ 3.0662e-01,  2.8898e-01],\n",
      "        [-2.6370e-01, -3.2211e-01],\n",
      "        [ 2.0798e-01,  3.3247e-02],\n",
      "        [ 1.2909e-01,  4.0051e-02],\n",
      "        [ 2.8339e-01,  1.1612e-01],\n",
      "        [ 5.6085e-02,  6.0978e-03],\n",
      "        [ 5.8757e-01,  2.1593e-01],\n",
      "        [-2.8890e-01, -3.2546e-01],\n",
      "        [ 4.2459e-02, -1.0556e-01],\n",
      "        [ 2.3699e-01, -2.7934e-02],\n",
      "        [-1.6520e-04, -7.5804e-02]], grad_fn=<AddmmBackward0>)\n"
     ]
    }
   ],
   "source": [
    "import torch\n",
    "import torch.nn as nn\n",
    "\n",
    "# Define a simple neural network model\n",
    "class SimpleNet(nn.Module):\n",
    "    def __init__(self):\n",
    "        super(SimpleNet, self).__init__()\n",
    "        self.fc1 = nn.Linear(10, 50)\n",
    "        self.fc2 = nn.Linear(50, 2)\n",
    "\n",
    "    def forward(self, x):\n",
    "        x = torch.relu(self.fc1(x))\n",
    "        x = self.fc2(x)\n",
    "        return x\n",
    "\n",
    "# Instantiate the model\n",
    "model = SimpleNet()\n",
    "\n",
    "# Check if multiple GPUs are available and apply DataParallel\n",
    "device = torch.device(\"cuda\" if torch.cuda.is_available() else \"cpu\")\n",
    "if torch.cuda.device_count() > 1:\n",
    "    model = nn.DataParallel(model)\n",
    "\n",
    "# Move the model to the GPU(s)\n",
    "model.to(device)\n",
    "\n",
    "# Create dummy input for testing\n",
    "input_data = torch.randn(64, 10).to(device)  # Batch of 64, input size 10\n",
    "\n",
    "# Forward pass (distributed across GPUs if available)\n",
    "output = model(input_data)\n",
    "print(output)"
   ]
  },
  {
   "cell_type": "markdown",
   "metadata": {
    "id": "5c-AUIwZ7ddD"
   },
   "source": [
    "# Automatic Differentiation and Gradients\n",
    "## Using Autograd to Compute Gradients"
   ]
  },
  {
   "cell_type": "code",
   "execution_count": 8,
   "metadata": {
    "colab": {
     "base_uri": "https://localhost:8080/"
    },
    "executionInfo": {
     "elapsed": 238,
     "status": "ok",
     "timestamp": 1727783649234,
     "user": {
      "displayName": "Luis Valencia",
      "userId": "16175830104245929827"
     },
     "user_tz": -120
    },
    "id": "zj6mLanMGx6C",
    "outputId": "2bbe457d-1bae-44d1-a40e-d769697fdae9"
   },
   "outputs": [
    {
     "name": "stdout",
     "output_type": "stream",
     "text": [
      "tensor([4.])\n"
     ]
    }
   ],
   "source": [
    "x = torch.tensor([2.0], requires_grad=True)\n",
    "y = x ** 2\n",
    "y.backward()  # Compute the gradient\n",
    "print(x.grad)  # Gradient of y with respect to x is 2x\n"
   ]
  },
  {
   "cell_type": "code",
   "execution_count": 9,
   "metadata": {
    "colab": {
     "base_uri": "https://localhost:8080/"
    },
    "executionInfo": {
     "elapsed": 1044,
     "status": "ok",
     "timestamp": 1727771240148,
     "user": {
      "displayName": "Luis Valencia",
      "userId": "16175830104245929827"
     },
     "user_tz": -120
    },
    "id": "0k1KbcEaMNiL",
    "outputId": "d1f022bf-5d09-40c8-8509-6bd710b81a10"
   },
   "outputs": [
    {
     "name": "stdout",
     "output_type": "stream",
     "text": [
      "tensor([3.0000, 6.0000, 6.7500])\n"
     ]
    }
   ],
   "source": [
    "x = torch.tensor([1.0, 2.0, 3.0], requires_grad=True)\n",
    "y = x ** 3  # Some arbitrary operation\n",
    "y.backward(torch.tensor([1.0, 0.5, 0.25]))  # Custom gradient\n",
    "print(x.grad)"
   ]
  },
  {
   "cell_type": "code",
   "execution_count": 10,
   "metadata": {
    "colab": {
     "base_uri": "https://localhost:8080/"
    },
    "executionInfo": {
     "elapsed": 1214,
     "status": "ok",
     "timestamp": 1727783669670,
     "user": {
      "displayName": "Luis Valencia",
      "userId": "16175830104245929827"
     },
     "user_tz": -120
    },
    "id": "qZgV5dmn7nIa",
    "outputId": "d1c5cf8a-46de-48c3-f078-f6ce49fa4872"
   },
   "outputs": [
    {
     "name": "stdout",
     "output_type": "stream",
     "text": [
      "tensor([3.0000, 6.0000, 6.7500])\n"
     ]
    }
   ],
   "source": [
    "x = torch.tensor([1.0, 2.0, 3.0], requires_grad=True)\n",
    "y = x ** 3  # Some arbitrary operation\n",
    "y.backward(torch.tensor([1.0, 0.5, 0.25]))  # Custom gradient\n",
    "print(x.grad)\n"
   ]
  },
  {
   "cell_type": "markdown",
   "metadata": {
    "id": "Ks8tiI0_7q_Q"
   },
   "source": [
    "# Building Neural Networks in PyTorch\n",
    "\n",
    "## Creating a Simple Neural Network"
   ]
  },
  {
   "cell_type": "code",
   "execution_count": 11,
   "metadata": {
    "executionInfo": {
     "elapsed": 390,
     "status": "ok",
     "timestamp": 1727772691642,
     "user": {
      "displayName": "Luis Valencia",
      "userId": "16175830104245929827"
     },
     "user_tz": -120
    },
    "id": "3FF7P-WmHZpa"
   },
   "outputs": [],
   "source": [
    "import torch.nn as nn\n",
    "\n",
    "class SimpleNet(nn.Module):\n",
    "    def __init__(self):\n",
    "        super(SimpleNet, self).__init__()\n",
    "        self.fc1 = nn.Linear(4, 16)  # Input layer (4 features) to hidden layer (16 neurons)\n",
    "        self.fc2 = nn.Linear(16, 3)  # Hidden layer to output layer (3 classes)\n",
    "\n",
    "    def forward(self, x):\n",
    "        x = torch.relu(self.fc1(x))  # Activation function\n",
    "        x = self.fc2(x)\n",
    "        return x\n"
   ]
  },
  {
   "cell_type": "markdown",
   "metadata": {
    "id": "EEToU-fM70tB"
   },
   "source": [
    "## Simple CNN"
   ]
  },
  {
   "cell_type": "code",
   "execution_count": 12,
   "metadata": {
    "colab": {
     "base_uri": "https://localhost:8080/"
    },
    "executionInfo": {
     "elapsed": 611,
     "status": "ok",
     "timestamp": 1727772950638,
     "user": {
      "displayName": "Luis Valencia",
      "userId": "16175830104245929827"
     },
     "user_tz": -120
    },
    "id": "ZBXH5xrgHjII",
    "outputId": "3a06b50f-a286-4e69-c375-2beb1454b77e"
   },
   "outputs": [
    {
     "name": "stdout",
     "output_type": "stream",
     "text": [
      "torch.Size([8, 10])\n"
     ]
    }
   ],
   "source": [
    "import torch\n",
    "import torch.nn as nn\n",
    "import torch.nn.functional as F\n",
    "\n",
    "class SimpleCNN(nn.Module):\n",
    "    def __init__(self):\n",
    "        super(SimpleCNN, self).__init__()\n",
    "        self.conv1 = nn.Conv2d(1, 32, kernel_size=3)  # Input: 1 channel, output: 32 channels\n",
    "        self.pool = nn.MaxPool2d(2, 2)  # Max pooling with a 2x2 window\n",
    "        # We will initialize fc1 later dynamically\n",
    "\n",
    "    def forward(self, x):\n",
    "        x = self.pool(F.relu(self.conv1(x)))  # Apply conv, ReLU, and pooling\n",
    "        x = x.view(x.size(0), -1)  # Flatten the tensor\n",
    "        # Fully connected layer input size should match flattened size, calculate dynamically\n",
    "        if not hasattr(self, 'fc1'):\n",
    "            self.fc1 = nn.Linear(x.size(1), 10)  # Dynamically set based on input size\n",
    "        x = self.fc1(x)  # Pass through fully connected layer\n",
    "        return x\n",
    "\n",
    "# Instantiate the model\n",
    "model = SimpleCNN()\n",
    "\n",
    "# Define a dummy input (batch size: 8, channels: 1, height: 28, width: 28)\n",
    "input_data = torch.randn(8, 1, 28, 28)\n",
    "\n",
    "# Forward pass\n",
    "output = model(input_data)\n",
    "print(output.shape)  # Output should be (8, 10), where 10 is the number of output classes"
   ]
  },
  {
   "cell_type": "code",
   "execution_count": null,
   "metadata": {
    "id": "E9dzr-0RR3BZ"
   },
   "outputs": [],
   "source": []
  }
 ],
 "metadata": {
  "accelerator": "GPU",
  "colab": {
   "authorship_tag": "ABX9TyMa0BV6JPvs6z3ORFdqepfl",
   "gpuType": "T4",
   "provenance": []
  },
  "kernelspec": {
   "display_name": ".venv",
   "language": "python",
   "name": "python3"
  },
  "language_info": {
   "codemirror_mode": {
    "name": "ipython",
    "version": 3
   },
   "file_extension": ".py",
   "mimetype": "text/x-python",
   "name": "python",
   "nbconvert_exporter": "python",
   "pygments_lexer": "ipython3",
   "version": "3.12.3"
  }
 },
 "nbformat": 4,
 "nbformat_minor": 0
}
