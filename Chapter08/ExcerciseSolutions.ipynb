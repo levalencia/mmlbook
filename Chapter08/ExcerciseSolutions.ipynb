{
 "cells": [
  {
   "cell_type": "code",
   "execution_count": 1,
   "metadata": {},
   "outputs": [
    {
     "name": "stdout",
     "output_type": "stream",
     "text": [
      "Requirement already satisfied: torchvision in c:\\mmlbook\\.venv\\lib\\site-packages (0.19.1)\n",
      "Requirement already satisfied: numpy in c:\\mmlbook\\.venv\\lib\\site-packages (from torchvision) (2.0.1)\n",
      "Requirement already satisfied: torch==2.4.1 in c:\\mmlbook\\.venv\\lib\\site-packages (from torchvision) (2.4.1)\n",
      "Requirement already satisfied: pillow!=8.3.*,>=5.3.0 in c:\\mmlbook\\.venv\\lib\\site-packages (from torchvision) (10.4.0)\n",
      "Requirement already satisfied: filelock in c:\\mmlbook\\.venv\\lib\\site-packages (from torch==2.4.1->torchvision) (3.16.1)\n",
      "Requirement already satisfied: typing-extensions>=4.8.0 in c:\\mmlbook\\.venv\\lib\\site-packages (from torch==2.4.1->torchvision) (4.12.2)\n",
      "Requirement already satisfied: sympy in c:\\mmlbook\\.venv\\lib\\site-packages (from torch==2.4.1->torchvision) (1.13.3)\n",
      "Requirement already satisfied: networkx in c:\\mmlbook\\.venv\\lib\\site-packages (from torch==2.4.1->torchvision) (3.3)\n",
      "Requirement already satisfied: jinja2 in c:\\mmlbook\\.venv\\lib\\site-packages (from torch==2.4.1->torchvision) (3.1.4)\n",
      "Requirement already satisfied: fsspec in c:\\mmlbook\\.venv\\lib\\site-packages (from torch==2.4.1->torchvision) (2024.9.0)\n",
      "Requirement already satisfied: setuptools in c:\\mmlbook\\.venv\\lib\\site-packages (from torch==2.4.1->torchvision) (75.1.0)\n",
      "Requirement already satisfied: MarkupSafe>=2.0 in c:\\mmlbook\\.venv\\lib\\site-packages (from jinja2->torch==2.4.1->torchvision) (2.1.5)\n",
      "Requirement already satisfied: mpmath<1.4,>=1.1.0 in c:\\mmlbook\\.venv\\lib\\site-packages (from sympy->torch==2.4.1->torchvision) (1.3.0)\n",
      "Note: you may need to restart the kernel to use updated packages.\n"
     ]
    }
   ],
   "source": [
    "%pip install torchvision"
   ]
  },
  {
   "cell_type": "markdown",
   "metadata": {},
   "source": [
    "# Explanation of the Solution:\n",
    "\n",
    "## Data Loading:\n",
    "\n",
    "We use torchvision.datasets.MNIST to load the dataset and apply transformations (normalization).\n",
    "The DataLoader creates batches of 64 images, which is efficient for training.\n",
    "\n",
    "## Neural Network Architecture:\n",
    "\n",
    "We define a simple feedforward neural network (SimpleNN) with one hidden layer (256 neurons) and ReLU activation.\n",
    "The input size is 28x28=784 (flattened), and the output size is 10 (for 10 classes, digits 0–9).\n",
    "\n",
    "\n",
    "## Training Loop:\n",
    "\n",
    "The loss function is cross-entropy loss, which is appropriate for multi-class classification.\n",
    "The optimizer is Adam, which dynamically adjusts the learning rate and typically works well for this task.\n",
    "We run the training loop for 5 epochs, printing the average loss at each epoch.\n",
    "\n",
    "\n",
    "## Evaluation:\n",
    "\n",
    "After training, we evaluate the model on the test set, calculating accuracy based on the number of correct predictions."
   ]
  },
  {
   "cell_type": "code",
   "execution_count": 2,
   "metadata": {},
   "outputs": [
    {
     "name": "stdout",
     "output_type": "stream",
     "text": [
      "Epoch 1/5, Loss: 0.3381021556092986\n",
      "Epoch 2/5, Loss: 0.16017595110441257\n",
      "Epoch 3/5, Loss: 0.11426883577796093\n",
      "Epoch 4/5, Loss: 0.09084531569084935\n",
      "Epoch 5/5, Loss: 0.07809582434997742\n",
      "Accuracy of the model on the test dataset: 97.37%\n"
     ]
    }
   ],
   "source": [
    "import torch\n",
    "import torch.nn as nn\n",
    "import torch.optim as optim\n",
    "import torchvision\n",
    "import torchvision.transforms as transforms\n",
    "from torch.utils.data import DataLoader\n",
    "\n",
    "# Step 1: Data Loading\n",
    "transform = transforms.Compose([transforms.ToTensor(), transforms.Normalize((0.5,), (0.5,))])\n",
    "\n",
    "# Download the MNIST dataset\n",
    "train_dataset = torchvision.datasets.MNIST(root='./data', train=True, download=True, transform=transform)\n",
    "test_dataset = torchvision.datasets.MNIST(root='./data', train=False, download=True, transform=transform)\n",
    "\n",
    "# Create DataLoaders\n",
    "train_loader = DataLoader(train_dataset, batch_size=64, shuffle=True)\n",
    "test_loader = DataLoader(test_dataset, batch_size=64, shuffle=False)\n",
    "\n",
    "# Step 2: Define the Neural Network\n",
    "class SimpleNN(nn.Module):\n",
    "    def __init__(self):\n",
    "        super(SimpleNN, self).__init__()\n",
    "        self.fc1 = nn.Linear(28 * 28, 256)  # Input layer (784 nodes) to hidden layer (256 nodes)\n",
    "        self.fc2 = nn.Linear(256, 10)  # Hidden layer (256 nodes) to output layer (10 nodes)\n",
    "\n",
    "    def forward(self, x):\n",
    "        x = x.view(-1, 28 * 28)  # Flatten the 28x28 image to a 784-dim vector\n",
    "        x = torch.relu(self.fc1(x))  # Apply ReLU activation function to the hidden layer\n",
    "        x = self.fc2(x)  # Output layer (no activation function needed for cross-entropy)\n",
    "        return x\n",
    "\n",
    "# Instantiate the model\n",
    "model = SimpleNN()\n",
    "\n",
    "# Step 3: Define the Loss Function and Optimizer\n",
    "criterion = nn.CrossEntropyLoss()  # Cross-entropy loss for classification\n",
    "optimizer = optim.Adam(model.parameters(), lr=0.001)  # Adam optimizer\n",
    "\n",
    "# Step 4: Training Loop\n",
    "num_epochs = 5\n",
    "\n",
    "for epoch in range(num_epochs):\n",
    "    running_loss = 0.0\n",
    "    for inputs, labels in train_loader:\n",
    "        # Zero the parameter gradients\n",
    "        optimizer.zero_grad()\n",
    "        \n",
    "        # Forward pass\n",
    "        outputs = model(inputs)\n",
    "        loss = criterion(outputs, labels)\n",
    "        \n",
    "        # Backward pass and optimization\n",
    "        loss.backward()\n",
    "        optimizer.step()\n",
    "        \n",
    "        # Accumulate loss for monitoring\n",
    "        running_loss += loss.item()\n",
    "    \n",
    "    print(f'Epoch {epoch+1}/{num_epochs}, Loss: {running_loss/len(train_loader)}')\n",
    "\n",
    "# Step 5: Evaluate the Model\n",
    "correct = 0\n",
    "total = 0\n",
    "\n",
    "with torch.no_grad():\n",
    "    for inputs, labels in test_loader:\n",
    "        outputs = model(inputs)\n",
    "        _, predicted = torch.max(outputs, 1)  # Get the index of the max log-probability\n",
    "        total += labels.size(0)\n",
    "        correct += (predicted == labels).sum().item()\n",
    "\n",
    "accuracy = 100 * correct / total\n",
    "print(f'Accuracy of the model on the test dataset: {accuracy:.2f}%')\n"
   ]
  },
  {
   "cell_type": "code",
   "execution_count": null,
   "metadata": {},
   "outputs": [],
   "source": []
  }
 ],
 "metadata": {
  "kernelspec": {
   "display_name": ".venv",
   "language": "python",
   "name": "python3"
  },
  "language_info": {
   "codemirror_mode": {
    "name": "ipython",
    "version": 3
   },
   "file_extension": ".py",
   "mimetype": "text/x-python",
   "name": "python",
   "nbconvert_exporter": "python",
   "pygments_lexer": "ipython3",
   "version": "3.12.3"
  }
 },
 "nbformat": 4,
 "nbformat_minor": 2
}
