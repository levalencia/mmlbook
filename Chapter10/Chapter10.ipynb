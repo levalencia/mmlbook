{
 "cells": [
  {
   "cell_type": "code",
   "execution_count": 24,
   "metadata": {},
   "outputs": [
    {
     "name": "stdout",
     "output_type": "stream",
     "text": [
      "Requirement already satisfied: torchvision in /Users/luisvalencia/Desktop/PythonPersonalProjects/AbletonTemplateGenerator-1/.venv/lib/python3.9/site-packages (0.20.1)\n",
      "Requirement already satisfied: numpy in /Users/luisvalencia/Desktop/PythonPersonalProjects/AbletonTemplateGenerator-1/.venv/lib/python3.9/site-packages (from torchvision) (2.0.2)\n",
      "Requirement already satisfied: torch==2.5.1 in /Users/luisvalencia/Desktop/PythonPersonalProjects/AbletonTemplateGenerator-1/.venv/lib/python3.9/site-packages (from torchvision) (2.5.1)\n",
      "Requirement already satisfied: pillow!=8.3.*,>=5.3.0 in /Users/luisvalencia/Desktop/PythonPersonalProjects/AbletonTemplateGenerator-1/.venv/lib/python3.9/site-packages (from torchvision) (11.1.0)\n",
      "Requirement already satisfied: filelock in /Users/luisvalencia/Desktop/PythonPersonalProjects/AbletonTemplateGenerator-1/.venv/lib/python3.9/site-packages (from torch==2.5.1->torchvision) (3.16.1)\n",
      "Requirement already satisfied: typing-extensions>=4.8.0 in /Users/luisvalencia/Desktop/PythonPersonalProjects/AbletonTemplateGenerator-1/.venv/lib/python3.9/site-packages (from torch==2.5.1->torchvision) (4.12.2)\n",
      "Requirement already satisfied: networkx in /Users/luisvalencia/Desktop/PythonPersonalProjects/AbletonTemplateGenerator-1/.venv/lib/python3.9/site-packages (from torch==2.5.1->torchvision) (3.2.1)\n",
      "Requirement already satisfied: jinja2 in /Users/luisvalencia/Desktop/PythonPersonalProjects/AbletonTemplateGenerator-1/.venv/lib/python3.9/site-packages (from torch==2.5.1->torchvision) (3.1.5)\n",
      "Requirement already satisfied: fsspec in /Users/luisvalencia/Desktop/PythonPersonalProjects/AbletonTemplateGenerator-1/.venv/lib/python3.9/site-packages (from torch==2.5.1->torchvision) (2024.12.0)\n",
      "Requirement already satisfied: sympy==1.13.1 in /Users/luisvalencia/Desktop/PythonPersonalProjects/AbletonTemplateGenerator-1/.venv/lib/python3.9/site-packages (from torch==2.5.1->torchvision) (1.13.1)\n",
      "Requirement already satisfied: mpmath<1.4,>=1.1.0 in /Users/luisvalencia/Desktop/PythonPersonalProjects/AbletonTemplateGenerator-1/.venv/lib/python3.9/site-packages (from sympy==1.13.1->torch==2.5.1->torchvision) (1.3.0)\n",
      "Requirement already satisfied: MarkupSafe>=2.0 in /Users/luisvalencia/Desktop/PythonPersonalProjects/AbletonTemplateGenerator-1/.venv/lib/python3.9/site-packages (from jinja2->torch==2.5.1->torchvision) (3.0.2)\n",
      "Note: you may need to restart the kernel to use updated packages.\n"
     ]
    }
   ],
   "source": [
    "%pip install torchvision"
   ]
  },
  {
   "cell_type": "code",
   "execution_count": 25,
   "metadata": {},
   "outputs": [
    {
     "name": "stdout",
     "output_type": "stream",
     "text": [
      "Files already downloaded and verified\n"
     ]
    }
   ],
   "source": [
    "from torchvision import datasets, transforms\n",
    "from torch.utils.data import DataLoader\n",
    "\n",
    "# Define transformations for data preprocessing\n",
    "transform = transforms.Compose([\n",
    "    transforms.ToTensor(),\n",
    "    transforms.Normalize((0.5, 0.5, 0.5), (0.5, 0.5, 0.5)) # Normalize pixel values\n",
    "])\n",
    "\n",
    "# Download and load the CIFAR-10 training data\n",
    "trainset = datasets.CIFAR10(root='./data', download=True, train=True, transform=transform)\n",
    "trainloader = DataLoader(trainset, batch_size=64, shuffle=True)\n"
   ]
  },
  {
   "cell_type": "code",
   "execution_count": 26,
   "metadata": {},
   "outputs": [],
   "source": [
    "transform = transforms.Compose([\n",
    "    transforms.RandomHorizontalFlip(),   # Randomly flip images horizontally\n",
    "    transforms.RandomCrop(32, padding=4),# Randomly crop with padding\n",
    "    transforms.ToTensor(),\n",
    "    transforms.Normalize((0.5, 0.5, 0.5), (0.5, 0.5, 0.5)) # Normalize\n",
    "])"
   ]
  },
  {
   "cell_type": "code",
   "execution_count": 27,
   "metadata": {},
   "outputs": [
    {
     "name": "stdout",
     "output_type": "stream",
     "text": [
      "Epoch 1, Loss: 1.884612083282617\n",
      "Epoch 2, Loss: 1.6646840758335866\n",
      "Epoch 3, Loss: 1.5801173422647559\n",
      "Epoch 4, Loss: 1.5265359328226056\n",
      "Epoch 5, Loss: 1.4823192079048937\n",
      "Epoch 6, Loss: 1.444394311331727\n",
      "Epoch 7, Loss: 1.410065675635472\n",
      "Epoch 8, Loss: 1.3786760086903487\n",
      "Epoch 9, Loss: 1.349889899687389\n",
      "Epoch 10, Loss: 1.3214048921604595\n"
     ]
    }
   ],
   "source": [
    "import torch\n",
    "import torch.nn as nn\n",
    "import torch.optim as optim\n",
    "\n",
    "# Define a simple neural network\n",
    "class SimpleNN(nn.Module):\n",
    "    def __init__(self):\n",
    "        super(SimpleNN, self).__init__()\n",
    "        self.fc1 = nn.Linear(32*32*3, 256)\n",
    "        self.fc2 = nn.Linear(256, 10)\n",
    "        \n",
    "    def forward(self, x):\n",
    "        x = x.view(x.size(0), -1) # Flatten the image\n",
    "        x = torch.relu(self.fc1(x))\n",
    "        return self.fc2(x)\n",
    "\n",
    "# Initialize the model, loss function, and optimizer\n",
    "model = SimpleNN()\n",
    "criterion = nn.CrossEntropyLoss()\n",
    "optimizer = optim.SGD(model.parameters(), lr=0.01)\n",
    "\n",
    "# Training loop\n",
    "for epoch in range(10): # 10 epochs\n",
    "    running_loss = 0.0\n",
    "    for images, labels in trainloader:\n",
    "        optimizer.zero_grad()       # Zero the gradients\n",
    "        \n",
    "        outputs = model(images)     # Forward pass\n",
    "        loss = criterion(outputs, labels) # Compute loss\n",
    "        loss.backward()             # Backward pass\n",
    "        optimizer.step()            # Update weights\n",
    "        \n",
    "        running_loss += loss.item()\n",
    "    print(f\"Epoch {epoch+1}, Loss: {running_loss/len(trainloader)}\")\n"
   ]
  },
  {
   "cell_type": "code",
   "execution_count": 28,
   "metadata": {},
   "outputs": [
    {
     "name": "stdout",
     "output_type": "stream",
     "text": [
      "Files already downloaded and verified\n"
     ]
    }
   ],
   "source": [
    "# Validation data transformations (only normalization, no augmentation)\n",
    "val_transform = transforms.Compose([\n",
    "    transforms.ToTensor(),\n",
    "    transforms.Normalize((0.5, 0.5, 0.5), (0.5, 0.5, 0.5))  # Normalize pixel values\n",
    "])\n",
    "\n",
    "# Download and load the CIFAR-10 validation data\n",
    "valset = datasets.CIFAR10(root='./data', download=True, train=False, transform=val_transform)\n",
    "valloader = DataLoader(valset, batch_size=64, shuffle=False)\n"
   ]
  },
  {
   "cell_type": "code",
   "execution_count": 29,
   "metadata": {},
   "outputs": [
    {
     "name": "stdout",
     "output_type": "stream",
     "text": [
      "Validation Loss: 1.4007310176351269, Validation Accuracy: 50.65%\n"
     ]
    }
   ],
   "source": [
    "# Validation loop\n",
    "val_loss = 0.0\n",
    "correct = 0\n",
    "total = 0\n",
    "\n",
    "# Switch the model to evaluation mode\n",
    "model.eval()\n",
    "\n",
    "with torch.no_grad():  # No need to track gradients during validation\n",
    "    for images, labels in valloader:\n",
    "        outputs = model(images)\n",
    "        loss = criterion(outputs, labels)  # Compute the loss on the validation set\n",
    "        val_loss += loss.item()\n",
    "\n",
    "        # Calculate accuracy\n",
    "        _, predicted = torch.max(outputs, 1)  # Get the predicted class with the highest score\n",
    "        total += labels.size(0)\n",
    "        correct += (predicted == labels).sum().item()\n",
    "\n",
    "# Calculate average loss and accuracy\n",
    "avg_val_loss = val_loss / len(valloader)\n",
    "accuracy = 100 * correct / total\n",
    "\n",
    "print(f\"Validation Loss: {avg_val_loss}, Validation Accuracy: {accuracy}%\")\n"
   ]
  },
  {
   "cell_type": "code",
   "execution_count": 30,
   "metadata": {},
   "outputs": [],
   "source": [
    "import torch.nn.functional as F\n",
    "\n",
    "class SimpleNNWithDropout(nn.Module):\n",
    "    def __init__(self):\n",
    "        super(SimpleNNWithDropout, self).__init__()\n",
    "        self.fc1 = nn.Linear(32*32*3, 256)\n",
    "        self.dropout = nn.Dropout(0.5)  # Drop 50% of neurons\n",
    "        self.fc2 = nn.Linear(256, 10)\n",
    "        \n",
    "    def forward(self, x):\n",
    "        x = x.view(x.size(0), -1)\n",
    "        x = F.relu(self.fc1(x))\n",
    "        x = self.dropout(x)  # Apply dropout\n",
    "        return self.fc2(x)\n"
   ]
  },
  {
   "cell_type": "code",
   "execution_count": 31,
   "metadata": {},
   "outputs": [
    {
     "name": "stdout",
     "output_type": "stream",
     "text": [
      "Epoch 1, Loss: 1.9193771919021216\n",
      "Epoch 2, Loss: 1.7332191090754536\n",
      "Epoch 3, Loss: 1.668132391427179\n",
      "Epoch 4, Loss: 1.6252766742425806\n",
      "Epoch 5, Loss: 1.5915023487852054\n",
      "Epoch 6, Loss: 1.5667871852664996\n",
      "Epoch 7, Loss: 1.5418601470530187\n",
      "Epoch 8, Loss: 1.5187764446753675\n",
      "Epoch 9, Loss: 1.505373979011155\n",
      "Epoch 10, Loss: 1.4896475395278248\n"
     ]
    }
   ],
   "source": [
    "import torch\n",
    "import torch.nn as nn\n",
    "import torch.optim as optim\n",
    "\n",
    "\n",
    "\n",
    "# Initialize the model, loss function, and optimizer\n",
    "model = SimpleNNWithDropout()\n",
    "criterion = nn.CrossEntropyLoss()\n",
    "optimizer = optim.SGD(model.parameters(), lr=0.01)\n",
    "\n",
    "# Training loop\n",
    "for epoch in range(10): # 10 epochs\n",
    "    running_loss = 0.0\n",
    "    for images, labels in trainloader:\n",
    "        optimizer.zero_grad()       # Zero the gradients\n",
    "        \n",
    "        outputs = model(images)     # Forward pass\n",
    "        loss = criterion(outputs, labels) # Compute loss\n",
    "        loss.backward()             # Backward pass\n",
    "        optimizer.step()            # Update weights\n",
    "        \n",
    "        running_loss += loss.item()\n",
    "    print(f\"Epoch {epoch+1}, Loss: {running_loss/len(trainloader)}\")\n"
   ]
  },
  {
   "cell_type": "code",
   "execution_count": 32,
   "metadata": {},
   "outputs": [
    {
     "name": "stdout",
     "output_type": "stream",
     "text": [
      "Validation Loss: 1.443209635224312, Validation Accuracy: 50.16%\n"
     ]
    }
   ],
   "source": [
    "# Validation loop\n",
    "val_loss = 0.0\n",
    "correct = 0\n",
    "total = 0\n",
    "\n",
    "# Switch the model to evaluation mode\n",
    "model.eval()\n",
    "\n",
    "with torch.no_grad():  # No need to track gradients during validation\n",
    "    for images, labels in valloader:\n",
    "        outputs = model(images)\n",
    "        loss = criterion(outputs, labels)  # Compute the loss on the validation set\n",
    "        val_loss += loss.item()\n",
    "\n",
    "        # Calculate accuracy\n",
    "        _, predicted = torch.max(outputs, 1)  # Get the predicted class with the highest score\n",
    "        total += labels.size(0)\n",
    "        correct += (predicted == labels).sum().item()\n",
    "\n",
    "# Calculate average loss and accuracy\n",
    "avg_val_loss = val_loss / len(valloader)\n",
    "accuracy = 100 * correct / total\n",
    "\n",
    "print(f\"Validation Loss: {avg_val_loss}, Validation Accuracy: {accuracy}%\")"
   ]
  },
  {
   "cell_type": "code",
   "execution_count": 33,
   "metadata": {},
   "outputs": [],
   "source": [
    "class SimpleNNWithBatchNorm(nn.Module):\n",
    "    def __init__(self):\n",
    "        super(SimpleNNWithBatchNorm, self).__init__()\n",
    "        self.fc1 = nn.Linear(32*32*3, 256)\n",
    "        self.batch_norm = nn.BatchNorm1d(256)\n",
    "        self.fc2 = nn.Linear(256, 10)\n",
    "        \n",
    "    def forward(self, x):\n",
    "        x = x.view(x.size(0), -1)\n",
    "        x = F.relu(self.batch_norm(self.fc1(x)))  # Apply batch normalization\n",
    "        return self.fc2(x)\n"
   ]
  },
  {
   "cell_type": "code",
   "execution_count": 34,
   "metadata": {},
   "outputs": [
    {
     "name": "stdout",
     "output_type": "stream",
     "text": [
      "Epoch 1, Loss: 1.7124282196354683\n",
      "Epoch 2, Loss: 1.5277353299548253\n",
      "Epoch 3, Loss: 1.4471444903737138\n",
      "Epoch 4, Loss: 1.3867907578987844\n",
      "Epoch 5, Loss: 1.3399442193453268\n",
      "Epoch 6, Loss: 1.2988353524061724\n",
      "Epoch 7, Loss: 1.2623958051814448\n",
      "Epoch 8, Loss: 1.2273711007269448\n",
      "Epoch 9, Loss: 1.1980362065765253\n",
      "Epoch 10, Loss: 1.16894822779214\n"
     ]
    }
   ],
   "source": [
    "import torch\n",
    "import torch.nn as nn\n",
    "import torch.optim as optim\n",
    "\n",
    "\n",
    "\n",
    "# Initialize the model, loss function, and optimizer\n",
    "model = SimpleNNWithBatchNorm()\n",
    "criterion = nn.CrossEntropyLoss()\n",
    "optimizer = optim.SGD(model.parameters(), lr=0.01)\n",
    "\n",
    "# Training loop\n",
    "for epoch in range(10): # 10 epochs\n",
    "    running_loss = 0.0\n",
    "    for images, labels in trainloader:\n",
    "        optimizer.zero_grad()       # Zero the gradients\n",
    "        \n",
    "        outputs = model(images)     # Forward pass\n",
    "        loss = criterion(outputs, labels) # Compute loss\n",
    "        loss.backward()             # Backward pass\n",
    "        optimizer.step()            # Update weights\n",
    "        \n",
    "        running_loss += loss.item()\n",
    "    print(f\"Epoch {epoch+1}, Loss: {running_loss/len(trainloader)}\")\n"
   ]
  },
  {
   "cell_type": "code",
   "execution_count": 35,
   "metadata": {},
   "outputs": [
    {
     "name": "stdout",
     "output_type": "stream",
     "text": [
      "Validation Loss: 1.3969063143821279, Validation Accuracy: 50.38%\n"
     ]
    }
   ],
   "source": [
    "# Validation loop\n",
    "val_loss = 0.0\n",
    "correct = 0\n",
    "total = 0\n",
    "\n",
    "# Switch the model to evaluation mode\n",
    "model.eval()\n",
    "\n",
    "with torch.no_grad():  # No need to track gradients during validation\n",
    "    for images, labels in valloader:\n",
    "        outputs = model(images)\n",
    "        loss = criterion(outputs, labels)  # Compute the loss on the validation set\n",
    "        val_loss += loss.item()\n",
    "\n",
    "        # Calculate accuracy\n",
    "        _, predicted = torch.max(outputs, 1)  # Get the predicted class with the highest score\n",
    "        total += labels.size(0)\n",
    "        correct += (predicted == labels).sum().item()\n",
    "\n",
    "# Calculate average loss and accuracy\n",
    "avg_val_loss = val_loss / len(valloader)\n",
    "accuracy = 100 * correct / total\n",
    "\n",
    "print(f\"Validation Loss: {avg_val_loss}, Validation Accuracy: {accuracy}%\")"
   ]
  },
  {
   "cell_type": "code",
   "execution_count": null,
   "metadata": {},
   "outputs": [],
   "source": []
  }
 ],
 "metadata": {
  "kernelspec": {
   "display_name": ".venv",
   "language": "python",
   "name": "python3"
  },
  "language_info": {
   "codemirror_mode": {
    "name": "ipython",
    "version": 3
   },
   "file_extension": ".py",
   "mimetype": "text/x-python",
   "name": "python",
   "nbconvert_exporter": "python",
   "pygments_lexer": "ipython3",
   "version": "3.13.1"
  }
 },
 "nbformat": 4,
 "nbformat_minor": 2
}
