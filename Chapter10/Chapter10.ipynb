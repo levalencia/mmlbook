{
 "cells": [
  {
   "cell_type": "code",
   "execution_count": 1,
   "metadata": {},
   "outputs": [
    {
     "name": "stdout",
     "output_type": "stream",
     "text": [
      "Downloading https://www.cs.toronto.edu/~kriz/cifar-10-python.tar.gz to ./data\\cifar-10-python.tar.gz\n"
     ]
    },
    {
     "name": "stderr",
     "output_type": "stream",
     "text": [
      "100.0%\n"
     ]
    },
    {
     "name": "stdout",
     "output_type": "stream",
     "text": [
      "Extracting ./data\\cifar-10-python.tar.gz to ./data\n"
     ]
    }
   ],
   "source": [
    "from torchvision import datasets, transforms\n",
    "from torch.utils.data import DataLoader\n",
    "\n",
    "# Define transformations for data preprocessing\n",
    "transform = transforms.Compose([\n",
    "    transforms.ToTensor(),\n",
    "    transforms.Normalize((0.5, 0.5, 0.5), (0.5, 0.5, 0.5)) # Normalize pixel values\n",
    "])\n",
    "\n",
    "# Download and load the CIFAR-10 training data\n",
    "trainset = datasets.CIFAR10(root='./data', download=True, train=True, transform=transform)\n",
    "trainloader = DataLoader(trainset, batch_size=64, shuffle=True)\n"
   ]
  },
  {
   "cell_type": "code",
   "execution_count": 2,
   "metadata": {},
   "outputs": [],
   "source": [
    "transform = transforms.Compose([\n",
    "    transforms.RandomHorizontalFlip(),   # Randomly flip images horizontally\n",
    "    transforms.RandomCrop(32, padding=4),# Randomly crop with padding\n",
    "    transforms.ToTensor(),\n",
    "    transforms.Normalize((0.5, 0.5, 0.5), (0.5, 0.5, 0.5)) # Normalize\n",
    "])"
   ]
  },
  {
   "cell_type": "code",
   "execution_count": 3,
   "metadata": {},
   "outputs": [
    {
     "name": "stdout",
     "output_type": "stream",
     "text": [
      "Epoch 1, Loss: 1.8709254017876238\n",
      "Epoch 2, Loss: 1.6589904607409407\n",
      "Epoch 3, Loss: 1.5755416613710507\n",
      "Epoch 4, Loss: 1.5201085682415292\n",
      "Epoch 5, Loss: 1.4757102959601165\n",
      "Epoch 6, Loss: 1.4370714776656206\n",
      "Epoch 7, Loss: 1.404117999784172\n",
      "Epoch 8, Loss: 1.3726537450195273\n",
      "Epoch 9, Loss: 1.3427332773080567\n",
      "Epoch 10, Loss: 1.3163938802069106\n"
     ]
    }
   ],
   "source": [
    "import torch\n",
    "import torch.nn as nn\n",
    "import torch.optim as optim\n",
    "\n",
    "# Define a simple neural network\n",
    "class SimpleNN(nn.Module):\n",
    "    def __init__(self):\n",
    "        super(SimpleNN, self).__init__()\n",
    "        self.fc1 = nn.Linear(32*32*3, 256)\n",
    "        self.fc2 = nn.Linear(256, 10)\n",
    "        \n",
    "    def forward(self, x):\n",
    "        x = x.view(x.size(0), -1) # Flatten the image\n",
    "        x = torch.relu(self.fc1(x))\n",
    "        return self.fc2(x)\n",
    "\n",
    "# Initialize the model, loss function, and optimizer\n",
    "model = SimpleNN()\n",
    "criterion = nn.CrossEntropyLoss()\n",
    "optimizer = optim.SGD(model.parameters(), lr=0.01)\n",
    "\n",
    "# Training loop\n",
    "for epoch in range(10): # 10 epochs\n",
    "    running_loss = 0.0\n",
    "    for images, labels in trainloader:\n",
    "        optimizer.zero_grad()       # Zero the gradients\n",
    "        \n",
    "        outputs = model(images)     # Forward pass\n",
    "        loss = criterion(outputs, labels) # Compute loss\n",
    "        loss.backward()             # Backward pass\n",
    "        optimizer.step()            # Update weights\n",
    "        \n",
    "        running_loss += loss.item()\n",
    "    print(f\"Epoch {epoch+1}, Loss: {running_loss/len(trainloader)}\")\n"
   ]
  },
  {
   "cell_type": "code",
   "execution_count": 4,
   "metadata": {},
   "outputs": [
    {
     "name": "stdout",
     "output_type": "stream",
     "text": [
      "Files already downloaded and verified\n"
     ]
    }
   ],
   "source": [
    "# Validation data transformations (only normalization, no augmentation)\n",
    "val_transform = transforms.Compose([\n",
    "    transforms.ToTensor(),\n",
    "    transforms.Normalize((0.5, 0.5, 0.5), (0.5, 0.5, 0.5))  # Normalize pixel values\n",
    "])\n",
    "\n",
    "# Download and load the CIFAR-10 validation data\n",
    "valset = datasets.CIFAR10(root='./data', download=True, train=False, transform=val_transform)\n",
    "valloader = DataLoader(valset, batch_size=64, shuffle=False)\n"
   ]
  },
  {
   "cell_type": "code",
   "execution_count": 6,
   "metadata": {},
   "outputs": [
    {
     "name": "stdout",
     "output_type": "stream",
     "text": [
      "Validation Loss: 1.3849875372686204, Validation Accuracy: 51.47%\n"
     ]
    }
   ],
   "source": [
    "# Validation loop\n",
    "val_loss = 0.0\n",
    "correct = 0\n",
    "total = 0\n",
    "\n",
    "# Switch the model to evaluation mode\n",
    "model.eval()\n",
    "\n",
    "with torch.no_grad():  # No need to track gradients during validation\n",
    "    for images, labels in valloader:\n",
    "        outputs = model(images)\n",
    "        loss = criterion(outputs, labels)  # Compute the loss on the validation set\n",
    "        val_loss += loss.item()\n",
    "\n",
    "        # Calculate accuracy\n",
    "        _, predicted = torch.max(outputs, 1)  # Get the predicted class with the highest score\n",
    "        total += labels.size(0)\n",
    "        correct += (predicted == labels).sum().item()\n",
    "\n",
    "# Calculate average loss and accuracy\n",
    "avg_val_loss = val_loss / len(valloader)\n",
    "accuracy = 100 * correct / total\n",
    "\n",
    "print(f\"Validation Loss: {avg_val_loss}, Validation Accuracy: {accuracy}%\")\n"
   ]
  },
  {
   "cell_type": "code",
   "execution_count": 7,
   "metadata": {},
   "outputs": [],
   "source": [
    "import torch.nn.functional as F\n",
    "\n",
    "class SimpleNNWithDropout(nn.Module):\n",
    "    def __init__(self):\n",
    "        super(SimpleNNWithDropout, self).__init__()\n",
    "        self.fc1 = nn.Linear(32*32*3, 256)\n",
    "        self.dropout = nn.Dropout(0.5)  # Drop 50% of neurons\n",
    "        self.fc2 = nn.Linear(256, 10)\n",
    "        \n",
    "    def forward(self, x):\n",
    "        x = x.view(x.size(0), -1)\n",
    "        x = F.relu(self.fc1(x))\n",
    "        x = self.dropout(x)  # Apply dropout\n",
    "        return self.fc2(x)\n"
   ]
  },
  {
   "cell_type": "code",
   "execution_count": 9,
   "metadata": {},
   "outputs": [
    {
     "name": "stdout",
     "output_type": "stream",
     "text": [
      "Epoch 1, Loss: 1.9117810892327058\n",
      "Epoch 2, Loss: 1.7335050897220212\n",
      "Epoch 3, Loss: 1.6639243780499529\n",
      "Epoch 4, Loss: 1.6227053821544208\n",
      "Epoch 5, Loss: 1.5946909420935393\n",
      "Epoch 6, Loss: 1.5666773291804907\n",
      "Epoch 7, Loss: 1.540536953512665\n",
      "Epoch 8, Loss: 1.52170181564053\n",
      "Epoch 9, Loss: 1.5042652809406485\n",
      "Epoch 10, Loss: 1.4876859393875923\n"
     ]
    }
   ],
   "source": [
    "import torch\n",
    "import torch.nn as nn\n",
    "import torch.optim as optim\n",
    "\n",
    "\n",
    "\n",
    "# Initialize the model, loss function, and optimizer\n",
    "model = SimpleNNWithDropout()\n",
    "criterion = nn.CrossEntropyLoss()\n",
    "optimizer = optim.SGD(model.parameters(), lr=0.01)\n",
    "\n",
    "# Training loop\n",
    "for epoch in range(10): # 10 epochs\n",
    "    running_loss = 0.0\n",
    "    for images, labels in trainloader:\n",
    "        optimizer.zero_grad()       # Zero the gradients\n",
    "        \n",
    "        outputs = model(images)     # Forward pass\n",
    "        loss = criterion(outputs, labels) # Compute loss\n",
    "        loss.backward()             # Backward pass\n",
    "        optimizer.step()            # Update weights\n",
    "        \n",
    "        running_loss += loss.item()\n",
    "    print(f\"Epoch {epoch+1}, Loss: {running_loss/len(trainloader)}\")\n"
   ]
  },
  {
   "cell_type": "code",
   "execution_count": 10,
   "metadata": {},
   "outputs": [
    {
     "name": "stdout",
     "output_type": "stream",
     "text": [
      "Validation Loss: 1.4394868225049062, Validation Accuracy: 50.22%\n"
     ]
    }
   ],
   "source": [
    "# Validation loop\n",
    "val_loss = 0.0\n",
    "correct = 0\n",
    "total = 0\n",
    "\n",
    "# Switch the model to evaluation mode\n",
    "model.eval()\n",
    "\n",
    "with torch.no_grad():  # No need to track gradients during validation\n",
    "    for images, labels in valloader:\n",
    "        outputs = model(images)\n",
    "        loss = criterion(outputs, labels)  # Compute the loss on the validation set\n",
    "        val_loss += loss.item()\n",
    "\n",
    "        # Calculate accuracy\n",
    "        _, predicted = torch.max(outputs, 1)  # Get the predicted class with the highest score\n",
    "        total += labels.size(0)\n",
    "        correct += (predicted == labels).sum().item()\n",
    "\n",
    "# Calculate average loss and accuracy\n",
    "avg_val_loss = val_loss / len(valloader)\n",
    "accuracy = 100 * correct / total\n",
    "\n",
    "print(f\"Validation Loss: {avg_val_loss}, Validation Accuracy: {accuracy}%\")"
   ]
  },
  {
   "cell_type": "code",
   "execution_count": 11,
   "metadata": {},
   "outputs": [],
   "source": [
    "class SimpleNNWithBatchNorm(nn.Module):\n",
    "    def __init__(self):\n",
    "        super(SimpleNNWithBatchNorm, self).__init__()\n",
    "        self.fc1 = nn.Linear(32*32*3, 256)\n",
    "        self.batch_norm = nn.BatchNorm1d(256)\n",
    "        self.fc2 = nn.Linear(256, 10)\n",
    "        \n",
    "    def forward(self, x):\n",
    "        x = x.view(x.size(0), -1)\n",
    "        x = F.relu(self.batch_norm(self.fc1(x)))  # Apply batch normalization\n",
    "        return self.fc2(x)\n"
   ]
  },
  {
   "cell_type": "code",
   "execution_count": 12,
   "metadata": {},
   "outputs": [
    {
     "name": "stdout",
     "output_type": "stream",
     "text": [
      "Epoch 1, Loss: 1.7114399464234062\n",
      "Epoch 2, Loss: 1.5290845512124278\n",
      "Epoch 3, Loss: 1.450971159331329\n",
      "Epoch 4, Loss: 1.3912510155411937\n",
      "Epoch 5, Loss: 1.3434709112357606\n",
      "Epoch 6, Loss: 1.3003548142855124\n",
      "Epoch 7, Loss: 1.2631244843115892\n",
      "Epoch 8, Loss: 1.2299953024558095\n",
      "Epoch 9, Loss: 1.19897321971786\n",
      "Epoch 10, Loss: 1.167670200471683\n"
     ]
    }
   ],
   "source": [
    "import torch\n",
    "import torch.nn as nn\n",
    "import torch.optim as optim\n",
    "\n",
    "\n",
    "\n",
    "# Initialize the model, loss function, and optimizer\n",
    "model = SimpleNNWithBatchNorm()\n",
    "criterion = nn.CrossEntropyLoss()\n",
    "optimizer = optim.SGD(model.parameters(), lr=0.01)\n",
    "\n",
    "# Training loop\n",
    "for epoch in range(10): # 10 epochs\n",
    "    running_loss = 0.0\n",
    "    for images, labels in trainloader:\n",
    "        optimizer.zero_grad()       # Zero the gradients\n",
    "        \n",
    "        outputs = model(images)     # Forward pass\n",
    "        loss = criterion(outputs, labels) # Compute loss\n",
    "        loss.backward()             # Backward pass\n",
    "        optimizer.step()            # Update weights\n",
    "        \n",
    "        running_loss += loss.item()\n",
    "    print(f\"Epoch {epoch+1}, Loss: {running_loss/len(trainloader)}\")\n"
   ]
  },
  {
   "cell_type": "code",
   "execution_count": 13,
   "metadata": {},
   "outputs": [
    {
     "name": "stdout",
     "output_type": "stream",
     "text": [
      "Validation Loss: 1.365519998939174, Validation Accuracy: 51.82%\n"
     ]
    }
   ],
   "source": [
    "# Validation loop\n",
    "val_loss = 0.0\n",
    "correct = 0\n",
    "total = 0\n",
    "\n",
    "# Switch the model to evaluation mode\n",
    "model.eval()\n",
    "\n",
    "with torch.no_grad():  # No need to track gradients during validation\n",
    "    for images, labels in valloader:\n",
    "        outputs = model(images)\n",
    "        loss = criterion(outputs, labels)  # Compute the loss on the validation set\n",
    "        val_loss += loss.item()\n",
    "\n",
    "        # Calculate accuracy\n",
    "        _, predicted = torch.max(outputs, 1)  # Get the predicted class with the highest score\n",
    "        total += labels.size(0)\n",
    "        correct += (predicted == labels).sum().item()\n",
    "\n",
    "# Calculate average loss and accuracy\n",
    "avg_val_loss = val_loss / len(valloader)\n",
    "accuracy = 100 * correct / total\n",
    "\n",
    "print(f\"Validation Loss: {avg_val_loss}, Validation Accuracy: {accuracy}%\")"
   ]
  },
  {
   "cell_type": "code",
   "execution_count": null,
   "metadata": {},
   "outputs": [],
   "source": []
  }
 ],
 "metadata": {
  "kernelspec": {
   "display_name": ".venv",
   "language": "python",
   "name": "python3"
  },
  "language_info": {
   "codemirror_mode": {
    "name": "ipython",
    "version": 3
   },
   "file_extension": ".py",
   "mimetype": "text/x-python",
   "name": "python",
   "nbconvert_exporter": "python",
   "pygments_lexer": "ipython3",
   "version": "3.12.3"
  }
 },
 "nbformat": 4,
 "nbformat_minor": 2
}
