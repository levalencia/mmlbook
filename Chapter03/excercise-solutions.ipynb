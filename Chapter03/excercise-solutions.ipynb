{
 "cells": [
  {
   "cell_type": "code",
   "execution_count": 1,
   "metadata": {},
   "outputs": [],
   "source": [
    "# Function for Average\n",
    "def calculate_average(grades):\n",
    "    try:\n",
    "        return sum(grades) / len(grades)\n",
    "    except ZeroDivisionError:\n",
    "        return 0  # Handle case where there are no grades yet\n",
    "\n",
    "# Class for Gradebook\n",
    "class Gradebook:\n",
    "    def __init__(self):\n",
    "        self.students = {}\n",
    "\n",
    "    def add_student(self, name):\n",
    "        self.students[name] = []\n",
    "\n",
    "    def add_grade(self, name, grade):\n",
    "        try:\n",
    "            grade = float(grade)\n",
    "            self.students[name].append(grade)\n",
    "        except ValueError:\n",
    "            print(\"Invalid grade. Please enter a number.\")\n",
    "        except KeyError:\n",
    "            print(f\"Student '{name}' not found.\")\n",
    "\n",
    "    def get_average(self, name):\n",
    "        try:\n",
    "            return calculate_average(self.students[name])\n",
    "        except KeyError:\n",
    "            print(f\"Student '{name}' not found.\")\n",
    "            return None\n"
   ]
  },
  {
   "cell_type": "code",
   "execution_count": 2,
   "metadata": {},
   "outputs": [
    {
     "name": "stdout",
     "output_type": "stream",
     "text": [
      "Luis's average grade: 91.50\n",
      "Margot's average grade: 88.50\n"
     ]
    }
   ],
   "source": [
    "# Main Program\n",
    "gradebook = Gradebook()\n",
    "gradebook.add_student(\"Luis\")\n",
    "gradebook.add_student(\"Margot\")\n",
    "\n",
    "# Simulate adding grades (you can replace this with user input)\n",
    "gradebook.add_grade(\"Luis\", 95)\n",
    "gradebook.add_grade(\"Luis\", 88)\n",
    "gradebook.add_grade(\"Margot\", 92)\n",
    "gradebook.add_grade(\"Margot\", 85)\n",
    "\n",
    "for student in gradebook.students:\n",
    "    average = gradebook.get_average(student)\n",
    "    if average is not None:\n",
    "        print(f\"{student}'s average grade: {average:.2f}\")\n",
    "        "
   ]
  },
  {
   "cell_type": "code",
   "execution_count": null,
   "metadata": {},
   "outputs": [],
   "source": []
  }
 ],
 "metadata": {
  "kernelspec": {
   "display_name": ".venv",
   "language": "python",
   "name": "python3"
  },
  "language_info": {
   "codemirror_mode": {
    "name": "ipython",
    "version": 3
   },
   "file_extension": ".py",
   "mimetype": "text/x-python",
   "name": "python",
   "nbconvert_exporter": "python",
   "pygments_lexer": "ipython3",
   "version": "3.12.3"
  }
 },
 "nbformat": 4,
 "nbformat_minor": 2
}
