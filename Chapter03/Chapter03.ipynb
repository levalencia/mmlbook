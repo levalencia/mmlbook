{
 "cells": [
  {
   "cell_type": "markdown",
   "metadata": {},
   "source": [
    "# Indentation"
   ]
  },
  {
   "cell_type": "code",
   "execution_count": 8,
   "metadata": {},
   "outputs": [
    {
     "name": "stdout",
     "output_type": "stream",
     "text": [
      "It's a hot day!\n"
     ]
    }
   ],
   "source": [
    "temperature = 29\n",
    "if temperature > 28:\n",
    "    print(\"It's a hot day!\")\n",
    "else:\n",
    "    print(\"The weather is pleasant.\")\n"
   ]
  },
  {
   "cell_type": "markdown",
   "metadata": {},
   "source": [
    "# Variables"
   ]
  },
  {
   "cell_type": "code",
   "execution_count": 9,
   "metadata": {},
   "outputs": [],
   "source": [
    "age = 40\n",
    "name = \"Luis\"\n",
    "pi = 3.14159\n"
   ]
  },
  {
   "cell_type": "markdown",
   "metadata": {},
   "source": [
    "# Operators"
   ]
  },
  {
   "cell_type": "code",
   "execution_count": 10,
   "metadata": {},
   "outputs": [],
   "source": [
    "result = 10 + 5 * 2  # Arithmetic calculation\n",
    "is_equal = age == 30 # Comparison\n",
    "is_valid = age > 18 and age < 65 # Logical operation\n"
   ]
  },
  {
   "cell_type": "markdown",
   "metadata": {},
   "source": [
    "## Data types\n",
    "\n",
    "# Int"
   ]
  },
  {
   "cell_type": "code",
   "execution_count": 11,
   "metadata": {},
   "outputs": [],
   "source": [
    "page = 30        # Integer\n",
    "price = 29.99    # Float\n"
   ]
  },
  {
   "cell_type": "markdown",
   "metadata": {},
   "source": [
    "## Strings"
   ]
  },
  {
   "cell_type": "code",
   "execution_count": 12,
   "metadata": {},
   "outputs": [],
   "source": [
    "name = \"Luis\"  \n",
    "message = 'Hello Luis'\n"
   ]
  },
  {
   "cell_type": "markdown",
   "metadata": {},
   "source": [
    "## Booelans"
   ]
  },
  {
   "cell_type": "code",
   "execution_count": 13,
   "metadata": {},
   "outputs": [],
   "source": [
    "is_student = True\n",
    "is_raining = False\n"
   ]
  },
  {
   "cell_type": "markdown",
   "metadata": {},
   "source": [
    "## Lists"
   ]
  },
  {
   "cell_type": "code",
   "execution_count": 14,
   "metadata": {},
   "outputs": [],
   "source": [
    "numbers = [1, 2, 3, 4]\n",
    "fruits = [\"apple\", \"banana\", \"orange\"]\n"
   ]
  },
  {
   "cell_type": "markdown",
   "metadata": {},
   "source": [
    "## Dictionaries"
   ]
  },
  {
   "cell_type": "code",
   "execution_count": 15,
   "metadata": {},
   "outputs": [],
   "source": [
    "person = {\"name\": \"Luis\", \"age\": 45, \"city\": \"Brussels\"}"
   ]
  },
  {
   "cell_type": "markdown",
   "metadata": {},
   "source": [
    "## Sets"
   ]
  },
  {
   "cell_type": "code",
   "execution_count": 16,
   "metadata": {},
   "outputs": [],
   "source": [
    "unique_numbers = {5, 1, 3, 1, 7}  "
   ]
  },
  {
   "cell_type": "markdown",
   "metadata": {},
   "source": [
    "## Tuples"
   ]
  },
  {
   "cell_type": "code",
   "execution_count": 17,
   "metadata": {},
   "outputs": [],
   "source": [
    "coordinates = (10, 20)"
   ]
  },
  {
   "cell_type": "markdown",
   "metadata": {},
   "source": [
    "## Conditional Statements"
   ]
  },
  {
   "cell_type": "code",
   "execution_count": 18,
   "metadata": {},
   "outputs": [
    {
     "name": "stdout",
     "output_type": "stream",
     "text": [
      "Model is performing well\n"
     ]
    }
   ],
   "source": [
    "accuracy = 0.91\n",
    "if accuracy > 0.9:\n",
    "    print(\"Model is performing well\")\n",
    "elif accuracy > 0.8:\n",
    "    print(\"Model needs improvement\")\n",
    "else:\n",
    "    print(\"Model is underperforming\")\n"
   ]
  },
  {
   "cell_type": "markdown",
   "metadata": {},
   "source": [
    "## For loops"
   ]
  },
  {
   "cell_type": "code",
   "execution_count": 19,
   "metadata": {},
   "outputs": [
    {
     "name": "stdout",
     "output_type": "stream",
     "text": [
      "Training\n",
      "Training\n",
      "Training\n",
      "Training\n",
      "Training\n",
      "Training\n",
      "Training\n",
      "Training\n",
      "Training\n",
      "Training\n"
     ]
    }
   ],
   "source": [
    "for epoch in range(10):  # Train for 10 epochs\n",
    "    print(\"Training\")\n",
    "    #train_model(data)\n"
   ]
  },
  {
   "cell_type": "markdown",
   "metadata": {},
   "source": [
    "## While loops"
   ]
  },
  {
   "cell_type": "code",
   "execution_count": 20,
   "metadata": {},
   "outputs": [],
   "source": [
    "loss = 0.01\n",
    "while loss > 0.1:  # Train until the loss is below 0.1\n",
    "\tprint(\"Training\")\n",
    "    #train_model(data)\n"
   ]
  },
  {
   "cell_type": "markdown",
   "metadata": {},
   "source": [
    "## Functions"
   ]
  },
  {
   "cell_type": "code",
   "execution_count": 21,
   "metadata": {},
   "outputs": [],
   "source": [
    "def preprocess_data(data):\n",
    "    # Data cleaning and transformation steps\n",
    "    processed_data = 'processed_data'\n",
    "    \n",
    "    return processed_data\n",
    "\t\n",
    "def calculate_accuracy(y_true, y_pred):\n",
    "    # Accuracy calculation logic\n",
    "    accuracy=0.99\n",
    "    return accuracy\n"
   ]
  },
  {
   "cell_type": "markdown",
   "metadata": {},
   "source": [
    "## Lambda functions"
   ]
  },
  {
   "cell_type": "code",
   "execution_count": 22,
   "metadata": {},
   "outputs": [],
   "source": [
    "def double(x):\n",
    "    return x * 2\n"
   ]
  },
  {
   "cell_type": "code",
   "execution_count": 23,
   "metadata": {},
   "outputs": [
    {
     "name": "stdout",
     "output_type": "stream",
     "text": [
      "8\n"
     ]
    }
   ],
   "source": [
    "x= 4\n",
    "y = lambda x: x * 2\n",
    "print(y(x))"
   ]
  },
  {
   "cell_type": "markdown",
   "metadata": {},
   "source": [
    "## Sorting"
   ]
  },
  {
   "cell_type": "code",
   "execution_count": 24,
   "metadata": {},
   "outputs": [],
   "source": [
    "points = [(1, 2), (3, 4), (-1, -1)]\n",
    "sorted_points = sorted(points, key=lambda x: x[0]**2 + x[1]**2)  \n"
   ]
  },
  {
   "cell_type": "markdown",
   "metadata": {},
   "source": [
    "## Lists"
   ]
  },
  {
   "cell_type": "code",
   "execution_count": 25,
   "metadata": {},
   "outputs": [],
   "source": [
    "# Example: Storing training data\n",
    "data = [\n",
    "    [0.2, 0.5, 0.8, 1],  # Features, Label \n",
    "    [0.1, 0.3, 0.6, 0],\n",
    "    [0.3, 0.7, 0.9, 1]\n",
    "]\n"
   ]
  },
  {
   "cell_type": "markdown",
   "metadata": {},
   "source": [
    "## Indexing and slicing"
   ]
  },
  {
   "cell_type": "code",
   "execution_count": 26,
   "metadata": {},
   "outputs": [],
   "source": [
    "first_data_point = data[0]         # Access the first data point\n",
    "features = first_data_point[:-1]   # Slice to get features \n",
    "label = first_data_point[-1]       # Get the last element (label)\n"
   ]
  },
  {
   "cell_type": "markdown",
   "metadata": {},
   "source": [
    "## List methods"
   ]
  },
  {
   "cell_type": "code",
   "execution_count": 27,
   "metadata": {},
   "outputs": [],
   "source": [
    "# Example: Modifying a list of labels\n",
    "labels = [1, 0, 1]\n",
    "labels.append(2)         # Add a new label\n",
    "labels.insert(1, 3)       # Insert a label at index 1\n",
    "labels.remove(1)         # Remove the first occurrence of 1\n",
    "removed_label = labels.pop()  # Remove the last label (2) and store it\n"
   ]
  },
  {
   "cell_type": "markdown",
   "metadata": {},
   "source": [
    "## List comprehensions"
   ]
  },
  {
   "cell_type": "code",
   "execution_count": 28,
   "metadata": {},
   "outputs": [],
   "source": [
    "# Example: Squaring each element in a list\n",
    "numbers = [1, 2, 3, 4]\n",
    "squared_numbers = [x**2 for x in numbers]  # [1, 4, 9, 16]\n"
   ]
  },
  {
   "cell_type": "markdown",
   "metadata": {},
   "source": [
    "## Dictionaries"
   ]
  },
  {
   "cell_type": "code",
   "execution_count": 29,
   "metadata": {},
   "outputs": [],
   "source": [
    "# Example: Storing model hyperparameters\n",
    "model_params = {\"learning_rate\": 0.01, \"batch_size\": 32, \"epochs\": 10}\n"
   ]
  },
  {
   "cell_type": "code",
   "execution_count": 30,
   "metadata": {},
   "outputs": [],
   "source": [
    "learning_rate = model_params[\"learning_rate\"]  # Access learning rate"
   ]
  },
  {
   "cell_type": "code",
   "execution_count": 31,
   "metadata": {},
   "outputs": [],
   "source": [
    "model_params[\"optimizer\"] = \"adam\"  # Add a new hyperparameter\n",
    "model_params[\"epochs\"] = 15        # Modify the number of epochs\n"
   ]
  },
  {
   "cell_type": "code",
   "execution_count": 32,
   "metadata": {},
   "outputs": [
    {
     "name": "stdout",
     "output_type": "stream",
     "text": [
      "learning_rate: 0.01\n",
      "batch_size: 32\n",
      "epochs: 15\n",
      "optimizer: adam\n"
     ]
    }
   ],
   "source": [
    "all_keys = model_params.keys()     # Get all keys\n",
    "all_values = model_params.values() # Get all values\n",
    "for key, value in model_params.items():  # Iterate over key-value pairs\n",
    "    print(f\"{key}: {value}\")\n"
   ]
  },
  {
   "cell_type": "markdown",
   "metadata": {},
   "source": [
    "## Sets"
   ]
  },
  {
   "cell_type": "code",
   "execution_count": 33,
   "metadata": {},
   "outputs": [],
   "source": [
    "# Example: Creating sets of features\n",
    "features_set1 = {1, 2, 3}\n",
    "features_set2 = set([2, 3, 4])\n"
   ]
  },
  {
   "cell_type": "code",
   "execution_count": 34,
   "metadata": {},
   "outputs": [],
   "source": [
    "all_features = features_set1 | features_set2  #Union: {1, 2, 3, 4}\n",
    "common_features = features_set1 & features_set2 #Intersection: {2, 3}\n",
    "unique_to_set1 = features_set1 - features_set2  # Difference: {1}\n"
   ]
  },
  {
   "cell_type": "markdown",
   "metadata": {},
   "source": [
    "##  Tuples"
   ]
  },
  {
   "cell_type": "code",
   "execution_count": 35,
   "metadata": {},
   "outputs": [],
   "source": [
    "# Example: Representing a data point with features and a label\n",
    "data_point = ([0.2, 0.5, 0.8], 1)  # Features: [0.2, 0.5, 0.8], Label: 1\n"
   ]
  },
  {
   "cell_type": "code",
   "execution_count": 36,
   "metadata": {},
   "outputs": [],
   "source": [
    "# Tuple packing\n",
    "point = (10, 20)  # Packing two values into a tuple\n",
    "\t\n",
    "# Tuple unpacking\n",
    "x, y = point      # Unpacking the values into x and y\n"
   ]
  },
  {
   "cell_type": "code",
   "execution_count": 37,
   "metadata": {},
   "outputs": [],
   "source": [
    "# Example: Using a tuple as a dictionary key\n",
    "image_data = {\n",
    "    (1280, 720): \"HD image\",\n",
    "    (1920, 1080): \"Full HD image\"\n",
    "}\n"
   ]
  },
  {
   "cell_type": "markdown",
   "metadata": {},
   "source": [
    "## Handling errors and exceptions"
   ]
  },
  {
   "cell_type": "code",
   "execution_count": 38,
   "metadata": {},
   "outputs": [
    {
     "name": "stdout",
     "output_type": "stream",
     "text": [
      "Error: Division by zero\n"
     ]
    }
   ],
   "source": [
    "try:\n",
    "    result = 10 / 0  # This will raise a ZeroDivisionError\n",
    "except ZeroDivisionError:\n",
    "    print(\"Error: Division by zero\")\n",
    "    result = float('inf')  # Handle the error by setting result to infinity\n"
   ]
  },
  {
   "cell_type": "code",
   "execution_count": 39,
   "metadata": {},
   "outputs": [],
   "source": [
    "def validate_input(x):\n",
    "    if x < 0:\n",
    "        raise ValueError(\"Input must be a non-negative number\")\n",
    "\n",
    "    try:\n",
    "       validate_input(-5)\n",
    "    except ValueError as e:\n",
    "       print(e)  # Print the error message\n"
   ]
  },
  {
   "cell_type": "markdown",
   "metadata": {},
   "source": [
    "## Code organization"
   ]
  },
  {
   "cell_type": "markdown",
   "metadata": {},
   "source": [
    "Open data_preprocessing.py"
   ]
  },
  {
   "cell_type": "code",
   "execution_count": 40,
   "metadata": {},
   "outputs": [],
   "source": [
    "# main.py or just any jupyter notebook\n",
    "\n",
    "import data_preprocessing\n",
    "\t\n",
    "data = 1  # Your raw data\n",
    "normalized_data = data_preprocessing.normalize_data(data)\n"
   ]
  },
  {
   "cell_type": "code",
   "execution_count": 41,
   "metadata": {},
   "outputs": [],
   "source": [
    "# main.py or just any jupyter notebook\n",
    "\n",
    "from my_ml_tools import data_preprocessing \n",
    "\n",
    "data =2 \n",
    "normalized_data = data_preprocessing.normalize_data(data)\n"
   ]
  },
  {
   "cell_type": "markdown",
   "metadata": {},
   "source": [
    "## Importing libraries"
   ]
  },
  {
   "cell_type": "code",
   "execution_count": 42,
   "metadata": {},
   "outputs": [],
   "source": [
    "import math\n",
    "import random\n",
    "import os\n"
   ]
  },
  {
   "cell_type": "code",
   "execution_count": 43,
   "metadata": {},
   "outputs": [
    {
     "name": "stdout",
     "output_type": "stream",
     "text": [
      "Collecting pandas\n",
      "  Using cached pandas-2.2.2-cp312-cp312-win_amd64.whl.metadata (19 kB)\n",
      "Collecting matplotlib\n",
      "  Using cached matplotlib-3.9.0-cp312-cp312-win_amd64.whl.metadata (11 kB)\n",
      "Collecting scikit-learn\n",
      "  Using cached scikit_learn-1.5.0-cp312-cp312-win_amd64.whl.metadata (11 kB)\n",
      "Collecting torch\n",
      "  Using cached torch-2.3.1-cp312-cp312-win_amd64.whl.metadata (26 kB)\n",
      "Collecting numpy>=1.26.0 (from pandas)\n",
      "  Downloading numpy-2.0.0-cp312-cp312-win_amd64.whl.metadata (60 kB)\n",
      "     ---------------------------------------- 0.0/60.9 kB ? eta -:--:--\n",
      "     ---------------------------------------- 0.0/60.9 kB ? eta -:--:--\n",
      "     ------ --------------------------------- 10.2/60.9 kB ? eta -:--:--\n",
      "     ------------ ------------------------- 20.5/60.9 kB 165.2 kB/s eta 0:00:01\n",
      "     ------------ ------------------------- 20.5/60.9 kB 165.2 kB/s eta 0:00:01\n",
      "     ------------------------- ------------ 41.0/60.9 kB 178.6 kB/s eta 0:00:01\n",
      "     ------------------------------- ------ 51.2/60.9 kB 201.8 kB/s eta 0:00:01\n",
      "     -------------------------------------- 60.9/60.9 kB 216.5 kB/s eta 0:00:00\n",
      "Requirement already satisfied: python-dateutil>=2.8.2 in c:\\users\\luisvalencia\\anaconda3\\envs\\mmlbook\\lib\\site-packages (from pandas) (2.9.0)\n",
      "Collecting pytz>=2020.1 (from pandas)\n",
      "  Using cached pytz-2024.1-py2.py3-none-any.whl.metadata (22 kB)\n",
      "Collecting tzdata>=2022.7 (from pandas)\n",
      "  Using cached tzdata-2024.1-py2.py3-none-any.whl.metadata (1.4 kB)\n",
      "Collecting contourpy>=1.0.1 (from matplotlib)\n",
      "  Using cached contourpy-1.2.1-cp312-cp312-win_amd64.whl.metadata (5.8 kB)\n",
      "Collecting cycler>=0.10 (from matplotlib)\n",
      "  Using cached cycler-0.12.1-py3-none-any.whl.metadata (3.8 kB)\n",
      "Collecting fonttools>=4.22.0 (from matplotlib)\n",
      "  Using cached fonttools-4.53.0-cp312-cp312-win_amd64.whl.metadata (165 kB)\n",
      "Collecting kiwisolver>=1.3.1 (from matplotlib)\n",
      "  Using cached kiwisolver-1.4.5-cp312-cp312-win_amd64.whl.metadata (6.5 kB)\n",
      "Requirement already satisfied: packaging>=20.0 in c:\\users\\luisvalencia\\anaconda3\\envs\\mmlbook\\lib\\site-packages (from matplotlib) (24.1)\n",
      "Collecting pillow>=8 (from matplotlib)\n",
      "  Using cached pillow-10.3.0-cp312-cp312-win_amd64.whl.metadata (9.4 kB)\n",
      "Collecting pyparsing>=2.3.1 (from matplotlib)\n",
      "  Using cached pyparsing-3.1.2-py3-none-any.whl.metadata (5.1 kB)\n",
      "Collecting scipy>=1.6.0 (from scikit-learn)\n",
      "  Downloading scipy-1.14.0-cp312-cp312-win_amd64.whl.metadata (60 kB)\n",
      "     ---------------------------------------- 0.0/60.8 kB ? eta -:--:--\n",
      "     --------------------------------- ------ 51.2/60.8 kB 1.3 MB/s eta 0:00:01\n",
      "     ---------------------------------------- 60.8/60.8 kB 1.1 MB/s eta 0:00:00\n",
      "Collecting joblib>=1.2.0 (from scikit-learn)\n",
      "  Using cached joblib-1.4.2-py3-none-any.whl.metadata (5.4 kB)\n",
      "Collecting threadpoolctl>=3.1.0 (from scikit-learn)\n",
      "  Using cached threadpoolctl-3.5.0-py3-none-any.whl.metadata (13 kB)\n",
      "Collecting filelock (from torch)\n",
      "  Downloading filelock-3.15.4-py3-none-any.whl.metadata (2.9 kB)\n",
      "Requirement already satisfied: typing-extensions>=4.8.0 in c:\\users\\luisvalencia\\anaconda3\\envs\\mmlbook\\lib\\site-packages (from torch) (4.12.2)\n",
      "Collecting sympy (from torch)\n",
      "  Using cached sympy-1.12.1-py3-none-any.whl.metadata (12 kB)\n",
      "Collecting networkx (from torch)\n",
      "  Using cached networkx-3.3-py3-none-any.whl.metadata (5.1 kB)\n",
      "Collecting jinja2 (from torch)\n",
      "  Using cached jinja2-3.1.4-py3-none-any.whl.metadata (2.6 kB)\n",
      "Collecting fsspec (from torch)\n",
      "  Using cached fsspec-2024.6.0-py3-none-any.whl.metadata (11 kB)\n",
      "Collecting mkl<=2021.4.0,>=2021.1.1 (from torch)\n",
      "  Using cached mkl-2021.4.0-py2.py3-none-win_amd64.whl.metadata (1.4 kB)\n",
      "Collecting intel-openmp==2021.* (from mkl<=2021.4.0,>=2021.1.1->torch)\n",
      "  Using cached intel_openmp-2021.4.0-py2.py3-none-win_amd64.whl.metadata (1.2 kB)\n",
      "Collecting tbb==2021.* (from mkl<=2021.4.0,>=2021.1.1->torch)\n",
      "  Downloading tbb-2021.13.0-py3-none-win_amd64.whl.metadata (1.1 kB)\n",
      "Requirement already satisfied: six>=1.5 in c:\\users\\luisvalencia\\anaconda3\\envs\\mmlbook\\lib\\site-packages (from python-dateutil>=2.8.2->pandas) (1.16.0)\n",
      "Collecting MarkupSafe>=2.0 (from jinja2->torch)\n",
      "  Using cached MarkupSafe-2.1.5-cp312-cp312-win_amd64.whl.metadata (3.1 kB)\n",
      "Collecting mpmath<1.4.0,>=1.1.0 (from sympy->torch)\n",
      "  Using cached mpmath-1.3.0-py3-none-any.whl.metadata (8.6 kB)\n",
      "Using cached pandas-2.2.2-cp312-cp312-win_amd64.whl (11.5 MB)\n",
      "Using cached matplotlib-3.9.0-cp312-cp312-win_amd64.whl (8.0 MB)\n",
      "Using cached scikit_learn-1.5.0-cp312-cp312-win_amd64.whl (10.9 MB)\n",
      "Using cached torch-2.3.1-cp312-cp312-win_amd64.whl (159.7 MB)\n",
      "Using cached contourpy-1.2.1-cp312-cp312-win_amd64.whl (189 kB)\n",
      "Using cached cycler-0.12.1-py3-none-any.whl (8.3 kB)\n",
      "Using cached fonttools-4.53.0-cp312-cp312-win_amd64.whl (2.2 MB)\n",
      "Using cached joblib-1.4.2-py3-none-any.whl (301 kB)\n",
      "Using cached kiwisolver-1.4.5-cp312-cp312-win_amd64.whl (56 kB)\n",
      "Using cached mkl-2021.4.0-py2.py3-none-win_amd64.whl (228.5 MB)\n",
      "Using cached intel_openmp-2021.4.0-py2.py3-none-win_amd64.whl (3.5 MB)\n",
      "Downloading tbb-2021.13.0-py3-none-win_amd64.whl (286 kB)\n",
      "   ---------------------------------------- 0.0/286.9 kB ? eta -:--:--\n",
      "   ---------------------------------------- 286.9/286.9 kB 8.9 MB/s eta 0:00:00\n",
      "Downloading numpy-2.0.0-cp312-cp312-win_amd64.whl (16.2 MB)\n",
      "   ---------------------------------------- 0.0/16.2 MB ? eta -:--:--\n",
      "   -- ------------------------------------- 1.1/16.2 MB 22.7 MB/s eta 0:00:01\n",
      "   ---- ----------------------------------- 1.8/16.2 MB 19.4 MB/s eta 0:00:01\n",
      "   ------- -------------------------------- 2.9/16.2 MB 20.4 MB/s eta 0:00:01\n",
      "   --------- ------------------------------ 3.7/16.2 MB 19.5 MB/s eta 0:00:01\n",
      "   ---------- ----------------------------- 4.2/16.2 MB 17.0 MB/s eta 0:00:01\n",
      "   ----------- ---------------------------- 4.5/16.2 MB 14.3 MB/s eta 0:00:01\n",
      "   ------------- -------------------------- 5.4/16.2 MB 15.1 MB/s eta 0:00:01\n",
      "   --------------- ------------------------ 6.2/16.2 MB 15.3 MB/s eta 0:00:01\n",
      "   ---------------- ----------------------- 6.8/16.2 MB 15.0 MB/s eta 0:00:01\n",
      "   -------------------- ------------------- 8.4/16.2 MB 15.7 MB/s eta 0:00:01\n",
      "   ---------------------- ----------------- 9.2/16.2 MB 15.4 MB/s eta 0:00:01\n",
      "   ------------------------ --------------- 9.9/16.2 MB 15.8 MB/s eta 0:00:01\n",
      "   ------------------------ --------------- 10.1/16.2 MB 15.0 MB/s eta 0:00:01\n",
      "   -------------------------- ------------- 10.9/16.2 MB 14.2 MB/s eta 0:00:01\n",
      "   ---------------------------- ----------- 11.4/16.2 MB 14.6 MB/s eta 0:00:01\n",
      "   ----------------------------- ---------- 12.1/16.2 MB 13.9 MB/s eta 0:00:01\n",
      "   ------------------------------ --------- 12.5/16.2 MB 14.2 MB/s eta 0:00:01\n",
      "   -------------------------------- ------- 13.0/16.2 MB 13.4 MB/s eta 0:00:01\n",
      "   ---------------------------------- ----- 14.1/16.2 MB 13.6 MB/s eta 0:00:01\n",
      "   ----------------------------------- ---- 14.5/16.2 MB 13.9 MB/s eta 0:00:01\n",
      "   ------------------------------------- -- 15.2/16.2 MB 13.9 MB/s eta 0:00:01\n",
      "   -------------------------------------- - 15.6/16.2 MB 13.4 MB/s eta 0:00:01\n",
      "   ---------------------------------------  16.2/16.2 MB 13.1 MB/s eta 0:00:01\n",
      "   ---------------------------------------  16.2/16.2 MB 13.1 MB/s eta 0:00:01\n",
      "   ---------------------------------------  16.2/16.2 MB 13.1 MB/s eta 0:00:01\n",
      "   ---------------------------------------- 16.2/16.2 MB 10.9 MB/s eta 0:00:00\n",
      "Using cached pillow-10.3.0-cp312-cp312-win_amd64.whl (2.5 MB)\n",
      "Using cached pyparsing-3.1.2-py3-none-any.whl (103 kB)\n",
      "Using cached pytz-2024.1-py2.py3-none-any.whl (505 kB)\n",
      "Downloading scipy-1.14.0-cp312-cp312-win_amd64.whl (44.5 MB)\n",
      "   ---------------------------------------- 0.0/44.5 MB ? eta -:--:--\n",
      "   - -------------------------------------- 2.2/44.5 MB 34.3 MB/s eta 0:00:02\n",
      "   -- ------------------------------------- 2.9/44.5 MB 26.5 MB/s eta 0:00:02\n",
      "   --- ------------------------------------ 3.6/44.5 MB 22.8 MB/s eta 0:00:02\n",
      "   ---- ----------------------------------- 4.7/44.5 MB 22.9 MB/s eta 0:00:02\n",
      "   ----- ---------------------------------- 5.8/44.5 MB 23.0 MB/s eta 0:00:02\n",
      "   ----- ---------------------------------- 6.5/44.5 MB 21.7 MB/s eta 0:00:02\n",
      "   ------ --------------------------------- 7.4/44.5 MB 21.6 MB/s eta 0:00:02\n",
      "   ------- -------------------------------- 8.3/44.5 MB 21.1 MB/s eta 0:00:02\n",
      "   -------- ------------------------------- 9.1/44.5 MB 20.8 MB/s eta 0:00:02\n",
      "   -------- ------------------------------- 9.9/44.5 MB 20.3 MB/s eta 0:00:02\n",
      "   --------- ------------------------------ 10.6/44.5 MB 19.3 MB/s eta 0:00:02\n",
      "   ---------- ----------------------------- 11.5/44.5 MB 18.2 MB/s eta 0:00:02\n",
      "   ----------- ---------------------------- 12.3/44.5 MB 17.7 MB/s eta 0:00:02\n",
      "   ----------- ---------------------------- 13.0/44.5 MB 17.7 MB/s eta 0:00:02\n",
      "   ------------ --------------------------- 13.9/44.5 MB 18.2 MB/s eta 0:00:02\n",
      "   ------------- -------------------------- 14.7/44.5 MB 17.7 MB/s eta 0:00:02\n",
      "   ------------- -------------------------- 15.5/44.5 MB 18.2 MB/s eta 0:00:02\n",
      "   -------------- ------------------------- 16.1/44.5 MB 17.7 MB/s eta 0:00:02\n",
      "   --------------- ------------------------ 17.1/44.5 MB 17.7 MB/s eta 0:00:02\n",
      "   ---------------- ----------------------- 17.9/44.5 MB 17.7 MB/s eta 0:00:02\n",
      "   ---------------- ----------------------- 18.7/44.5 MB 17.7 MB/s eta 0:00:02\n",
      "   ----------------- ---------------------- 19.3/44.5 MB 17.3 MB/s eta 0:00:02\n",
      "   ------------------ --------------------- 20.2/44.5 MB 17.2 MB/s eta 0:00:02\n",
      "   ------------------- -------------------- 21.2/44.5 MB 17.7 MB/s eta 0:00:02\n",
      "   ------------------- -------------------- 22.0/44.5 MB 17.7 MB/s eta 0:00:02\n",
      "   -------------------- ------------------- 22.6/44.5 MB 17.7 MB/s eta 0:00:02\n",
      "   --------------------- ------------------ 23.5/44.5 MB 17.2 MB/s eta 0:00:02\n",
      "   --------------------- ------------------ 23.6/44.5 MB 16.4 MB/s eta 0:00:02\n",
      "   --------------------- ------------------ 24.4/44.5 MB 16.4 MB/s eta 0:00:02\n",
      "   ---------------------- ----------------- 25.1/44.5 MB 16.0 MB/s eta 0:00:02\n",
      "   ----------------------- ---------------- 25.6/44.5 MB 16.0 MB/s eta 0:00:02\n",
      "   ----------------------- ---------------- 26.4/44.5 MB 16.4 MB/s eta 0:00:02\n",
      "   ------------------------ --------------- 27.4/44.5 MB 16.0 MB/s eta 0:00:02\n",
      "   ------------------------- -------------- 28.3/44.5 MB 16.4 MB/s eta 0:00:01\n",
      "   -------------------------- ------------- 29.1/44.5 MB 16.0 MB/s eta 0:00:01\n",
      "   -------------------------- ------------- 29.9/44.5 MB 16.4 MB/s eta 0:00:01\n",
      "   --------------------------- ------------ 30.8/44.5 MB 16.4 MB/s eta 0:00:01\n",
      "   ---------------------------- ----------- 31.5/44.5 MB 16.4 MB/s eta 0:00:01\n",
      "   ----------------------------- ---------- 32.3/44.5 MB 16.4 MB/s eta 0:00:01\n",
      "   ----------------------------- ---------- 33.2/44.5 MB 16.4 MB/s eta 0:00:01\n",
      "   ------------------------------ --------- 34.0/44.5 MB 17.3 MB/s eta 0:00:01\n",
      "   ------------------------------- -------- 34.9/44.5 MB 17.7 MB/s eta 0:00:01\n",
      "   ------------------------------- -------- 35.6/44.5 MB 17.7 MB/s eta 0:00:01\n",
      "   -------------------------------- ------- 36.5/44.5 MB 18.2 MB/s eta 0:00:01\n",
      "   --------------------------------- ------ 37.4/44.5 MB 18.2 MB/s eta 0:00:01\n",
      "   ---------------------------------- ----- 37.9/44.5 MB 17.7 MB/s eta 0:00:01\n",
      "   ---------------------------------- ----- 38.5/44.5 MB 16.8 MB/s eta 0:00:01\n",
      "   ----------------------------------- ---- 39.6/44.5 MB 17.7 MB/s eta 0:00:01\n",
      "   ------------------------------------ --- 40.5/44.5 MB 17.3 MB/s eta 0:00:01\n",
      "   ------------------------------------- -- 41.2/44.5 MB 17.7 MB/s eta 0:00:01\n",
      "   ------------------------------------- -- 42.0/44.5 MB 17.7 MB/s eta 0:00:01\n",
      "   -------------------------------------- - 42.9/44.5 MB 17.2 MB/s eta 0:00:01\n",
      "   ---------------------------------------  43.7/44.5 MB 17.2 MB/s eta 0:00:01\n",
      "   ---------------------------------------  44.5/44.5 MB 17.7 MB/s eta 0:00:01\n",
      "   ---------------------------------------  44.5/44.5 MB 17.2 MB/s eta 0:00:01\n",
      "   ---------------------------------------  44.5/44.5 MB 17.2 MB/s eta 0:00:01\n",
      "   ---------------------------------------- 44.5/44.5 MB 14.2 MB/s eta 0:00:00\n",
      "Using cached threadpoolctl-3.5.0-py3-none-any.whl (18 kB)\n",
      "Using cached tzdata-2024.1-py2.py3-none-any.whl (345 kB)\n",
      "Downloading filelock-3.15.4-py3-none-any.whl (16 kB)\n",
      "Using cached fsspec-2024.6.0-py3-none-any.whl (176 kB)\n",
      "Using cached jinja2-3.1.4-py3-none-any.whl (133 kB)\n",
      "Using cached networkx-3.3-py3-none-any.whl (1.7 MB)\n",
      "Using cached sympy-1.12.1-py3-none-any.whl (5.7 MB)\n",
      "Using cached MarkupSafe-2.1.5-cp312-cp312-win_amd64.whl (17 kB)\n",
      "Using cached mpmath-1.3.0-py3-none-any.whl (536 kB)\n",
      "Installing collected packages: tbb, pytz, mpmath, intel-openmp, tzdata, threadpoolctl, sympy, pyparsing, pillow, numpy, networkx, mkl, MarkupSafe, kiwisolver, joblib, fsspec, fonttools, filelock, cycler, scipy, pandas, jinja2, contourpy, torch, scikit-learn, matplotlib\n",
      "Successfully installed MarkupSafe-2.1.5 contourpy-1.2.1 cycler-0.12.1 filelock-3.15.4 fonttools-4.53.0 fsspec-2024.6.0 intel-openmp-2021.4.0 jinja2-3.1.4 joblib-1.4.2 kiwisolver-1.4.5 matplotlib-3.9.0 mkl-2021.4.0 mpmath-1.3.0 networkx-3.3 numpy-2.0.0 pandas-2.2.2 pillow-10.3.0 pyparsing-3.1.2 pytz-2024.1 scikit-learn-1.5.0 scipy-1.14.0 sympy-1.12.1 tbb-2021.13.0 threadpoolctl-3.5.0 torch-2.3.1 tzdata-2024.1\n",
      "Note: you may need to restart the kernel to use updated packages.\n"
     ]
    }
   ],
   "source": [
    "%pip install pandas matplotlib scikit-learn torch"
   ]
  },
  {
   "cell_type": "code",
   "execution_count": 44,
   "metadata": {},
   "outputs": [],
   "source": [
    "import numpy as np\n",
    "import pandas as pd\n",
    "import matplotlib.pyplot as plt\n",
    "from sklearn.model_selection import train_test_split\n",
    "import torch\n"
   ]
  },
  {
   "cell_type": "markdown",
   "metadata": {},
   "source": [
    "## Code formatting"
   ]
  },
  {
   "cell_type": "code",
   "execution_count": 45,
   "metadata": {},
   "outputs": [
    {
     "name": "stdout",
     "output_type": "stream",
     "text": [
      "0\n",
      "2\n",
      "4\n",
      "6\n",
      "8\n"
     ]
    }
   ],
   "source": [
    "# Good\n",
    "for i in range(10):\n",
    "    if i % 2 == 0:\n",
    "        print(i)\n"
   ]
  },
  {
   "cell_type": "code",
   "execution_count": 46,
   "metadata": {},
   "outputs": [],
   "source": [
    "# Good -  Limit lines to a maximum of 79 characters\n",
    "#result = some_function(argument1, argument2, argument3)"
   ]
  },
  {
   "cell_type": "code",
   "execution_count": 47,
   "metadata": {},
   "outputs": [],
   "source": [
    "#\tBlank Lines: Use blank lines to separate functions and classes and to group related code within functions\n",
    "def preprocess_data(data):\n",
    "    # ... (Code for preprocessing)\n",
    "    return data\n",
    "\n",
    "def train_model(data):\n",
    "\t# ... (Code for training)\n",
    "    return data "
   ]
  },
  {
   "cell_type": "code",
   "execution_count": 48,
   "metadata": {},
   "outputs": [],
   "source": [
    "# Example of a docstring for a function\n",
    "def calculate_accuracy(y_true, y_pred):\n",
    "    \"\"\"\n",
    "    Calculates the accuracy of a model's predictions.\n",
    "\n",
    "    Args:\n",
    "        y_true: True target values.\n",
    "        y_pred: Predicted values.\n",
    "\n",
    "\t    Returns:\n",
    "\t        The accuracy score.\n",
    "\t    \"\"\"\n",
    "\t    # ... (Code for calculating accuracy)\n",
    "    return 0.9\n"
   ]
  },
  {
   "cell_type": "code",
   "execution_count": 49,
   "metadata": {},
   "outputs": [],
   "source": [
    "import numpy as np\n",
    "\n",
    "def calculate_loss(y_true, y_pred):\n",
    "    \"\"\"\n",
    "    Calculates the mean squared error loss between true - predicted values.\n",
    "\n",
    "    Args:\n",
    "        y_true: True target values.\n",
    "        y_pred: Predicted values.\n",
    "\n",
    "    Returns:\n",
    "\t        The mean squared error loss.\n",
    "    \"\"\"\n",
    "    return np.mean((y_true - y_pred) ** 2)"
   ]
  },
  {
   "cell_type": "markdown",
   "metadata": {},
   "source": [
    "## Object Oriented Programming"
   ]
  },
  {
   "cell_type": "code",
   "execution_count": 50,
   "metadata": {},
   "outputs": [],
   "source": [
    "class NeuralNetwork:\n",
    "    def __init__(self, num_layers, num_neurons):\n",
    "        self.num_layers = num_layers\n",
    "        self.num_neurons = num_neurons\n",
    "        # ... (Initialize weights and biases)\n",
    "\n",
    "    def forward(self, inputs):\n",
    "        # ... (Forward pass logic)\n",
    "        return 1\n",
    "\n",
    "    def backward(self, loss):\n",
    "\t    # ... (Backpropagation logic)\n",
    "        return 0\n"
   ]
  },
  {
   "cell_type": "code",
   "execution_count": 51,
   "metadata": {},
   "outputs": [],
   "source": [
    "class Model:\n",
    "    def __init__(self):\n",
    "        # ... (Initialize common model attributes)\n",
    "        super().__init__()\n",
    "\n",
    "    def fit(self, X, y):\n",
    "        # ... (Generic training logic)\n",
    "        print(\"Data is fit original implementation\")\n",
    "\n",
    "    def predict(self, X):\n",
    "        # ... (Generic prediction logic)\n",
    "        print(\"Data predicted\")\n",
    "\t\n",
    "class LinearRegression(Model):\n",
    "    def __init__(self):\n",
    "        # ... (Initialize specific linear regression attributes)\n",
    "        super().__init__()\n",
    "\t\n",
    "    def fit(self, X, y):\n",
    "        # ... (Specific linear regression training logic)\n",
    "        print(\"Data is fit, implementation from Linear Regression\")\n"
   ]
  },
  {
   "cell_type": "code",
   "execution_count": 52,
   "metadata": {},
   "outputs": [],
   "source": [
    "class DataPreprocessor:\n",
    "    def __init__(self, data):\n",
    "        self._data = data  # Protected attribute\n",
    "\n",
    "    def normalize(self):\n",
    "        # ... (Normalization logic)\n",
    "        print(\"Data is normalized\")\n",
    "\n",
    "    def clean(self):\n",
    "        # ... (Cleaning logic)\n",
    "        print(\"Data is cleaned\")\n",
    "        "
   ]
  },
  {
   "cell_type": "code",
   "execution_count": 53,
   "metadata": {},
   "outputs": [],
   "source": [
    "def train_model(model, optimizer, data):\n",
    "    # ...\n",
    "    optimizer.step()  # Works with any optimizer that has a step() method\n",
    "    # ...\n"
   ]
  }
 ],
 "metadata": {
  "kernelspec": {
   "display_name": "Python 3",
   "language": "python",
   "name": "python3"
  },
  "language_info": {
   "codemirror_mode": {
    "name": "ipython",
    "version": 3
   },
   "file_extension": ".py",
   "mimetype": "text/x-python",
   "name": "python",
   "nbconvert_exporter": "python",
   "pygments_lexer": "ipython3",
   "version": "3.12.4"
  }
 },
 "nbformat": 4,
 "nbformat_minor": 2
}
